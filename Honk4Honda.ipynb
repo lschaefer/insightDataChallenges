{
 "cells": [
  {
   "cell_type": "code",
   "execution_count": 1,
   "metadata": {},
   "outputs": [],
   "source": [
    "import pandas as pd\n"
   ]
  },
  {
   "cell_type": "code",
   "execution_count": 2,
   "metadata": {},
   "outputs": [],
   "source": [
    "inCL = pd.read_csv('/Users/lschaefer/Documents/Insight/dataChallenges/week6/craigslistVehicles.csv')\n",
    "inCF = pd.read_csv('/Users/lschaefer/Documents/Insight/dataChallenges/week6/craigslistVehiclesFull.csv')"
   ]
  },
  {
   "cell_type": "markdown",
   "metadata": {},
   "source": [
    "# EDA"
   ]
  },
  {
   "cell_type": "code",
   "execution_count": 3,
   "metadata": {},
   "outputs": [
    {
     "name": "stdout",
     "output_type": "stream",
     "text": [
      "<class 'pandas.core.frame.DataFrame'>\n",
      "RangeIndex: 443405 entries, 0 to 443404\n",
      "Data columns (total 22 columns):\n",
      "url             443405 non-null object\n",
      "city            443405 non-null object\n",
      "city_url        443405 non-null object\n",
      "price           443405 non-null int64\n",
      "year            442625 non-null float64\n",
      "manufacturer    416632 non-null object\n",
      "make            431719 non-null object\n",
      "condition       247168 non-null object\n",
      "cylinders       265822 non-null object\n",
      "fuel            439771 non-null object\n",
      "odometer        350614 non-null float64\n",
      "title_status    441334 non-null object\n",
      "transmission    440070 non-null object\n",
      "VIN             240560 non-null object\n",
      "drive           309654 non-null object\n",
      "size            152501 non-null object\n",
      "type            311390 non-null object\n",
      "paint_color     297871 non-null object\n",
      "image_url       443393 non-null object\n",
      "desc            443391 non-null object\n",
      "lat             442580 non-null float64\n",
      "long            442580 non-null float64\n",
      "dtypes: float64(4), int64(1), object(17)\n",
      "memory usage: 74.4+ MB\n"
     ]
    }
   ],
   "source": [
    "inCL.info()"
   ]
  },
  {
   "cell_type": "code",
   "execution_count": 4,
   "metadata": {},
   "outputs": [
    {
     "data": {
      "text/html": [
       "<div>\n",
       "<style scoped>\n",
       "    .dataframe tbody tr th:only-of-type {\n",
       "        vertical-align: middle;\n",
       "    }\n",
       "\n",
       "    .dataframe tbody tr th {\n",
       "        vertical-align: top;\n",
       "    }\n",
       "\n",
       "    .dataframe thead th {\n",
       "        text-align: right;\n",
       "    }\n",
       "</style>\n",
       "<table border=\"1\" class=\"dataframe\">\n",
       "  <thead>\n",
       "    <tr style=\"text-align: right;\">\n",
       "      <th></th>\n",
       "      <th>url</th>\n",
       "      <th>city</th>\n",
       "      <th>city_url</th>\n",
       "      <th>price</th>\n",
       "      <th>year</th>\n",
       "      <th>manufacturer</th>\n",
       "      <th>make</th>\n",
       "      <th>condition</th>\n",
       "      <th>cylinders</th>\n",
       "      <th>fuel</th>\n",
       "      <th>...</th>\n",
       "      <th>transmission</th>\n",
       "      <th>VIN</th>\n",
       "      <th>drive</th>\n",
       "      <th>size</th>\n",
       "      <th>type</th>\n",
       "      <th>paint_color</th>\n",
       "      <th>image_url</th>\n",
       "      <th>desc</th>\n",
       "      <th>lat</th>\n",
       "      <th>long</th>\n",
       "    </tr>\n",
       "  </thead>\n",
       "  <tbody>\n",
       "    <tr>\n",
       "      <td>0</td>\n",
       "      <td>https://albuquerque.craigslist.org/cto/d/albuq...</td>\n",
       "      <td>albuquerque</td>\n",
       "      <td>https://albuquerque.craigslist.org</td>\n",
       "      <td>1500</td>\n",
       "      <td>2005.0</td>\n",
       "      <td>hyundai</td>\n",
       "      <td>elantra</td>\n",
       "      <td>good</td>\n",
       "      <td>4 cylinders</td>\n",
       "      <td>gas</td>\n",
       "      <td>...</td>\n",
       "      <td>automatic</td>\n",
       "      <td>NaN</td>\n",
       "      <td>fwd</td>\n",
       "      <td>mid-size</td>\n",
       "      <td>sedan</td>\n",
       "      <td>blue</td>\n",
       "      <td>https://images.craigslist.org/00C0C_jxcguIkSFN...</td>\n",
       "      <td>Selling a 2005 Hyundai Elantra 2.0 4 cylinder....</td>\n",
       "      <td>35.156142</td>\n",
       "      <td>-106.656501</td>\n",
       "    </tr>\n",
       "    <tr>\n",
       "      <td>1</td>\n",
       "      <td>https://albuquerque.craigslist.org/cto/d/albuq...</td>\n",
       "      <td>albuquerque</td>\n",
       "      <td>https://albuquerque.craigslist.org</td>\n",
       "      <td>10000</td>\n",
       "      <td>2010.0</td>\n",
       "      <td>bmw</td>\n",
       "      <td>535xi</td>\n",
       "      <td>good</td>\n",
       "      <td>6 cylinders</td>\n",
       "      <td>gas</td>\n",
       "      <td>...</td>\n",
       "      <td>automatic</td>\n",
       "      <td>NaN</td>\n",
       "      <td>NaN</td>\n",
       "      <td>NaN</td>\n",
       "      <td>sedan</td>\n",
       "      <td>white</td>\n",
       "      <td>https://images.craigslist.org/00t0t_cy5QmA1gOF...</td>\n",
       "      <td>2010 BMW 535xi\\nAll wheel drive \\n120,000\\nCle...</td>\n",
       "      <td>35.151887</td>\n",
       "      <td>-106.708317</td>\n",
       "    </tr>\n",
       "    <tr>\n",
       "      <td>2</td>\n",
       "      <td>https://albuquerque.craigslist.org/ctd/d/albuq...</td>\n",
       "      <td>albuquerque</td>\n",
       "      <td>https://albuquerque.craigslist.org</td>\n",
       "      <td>2000</td>\n",
       "      <td>2005.0</td>\n",
       "      <td>toyota</td>\n",
       "      <td>tacoma</td>\n",
       "      <td>NaN</td>\n",
       "      <td>NaN</td>\n",
       "      <td>gas</td>\n",
       "      <td>...</td>\n",
       "      <td>automatic</td>\n",
       "      <td>NaN</td>\n",
       "      <td>NaN</td>\n",
       "      <td>NaN</td>\n",
       "      <td>NaN</td>\n",
       "      <td>NaN</td>\n",
       "      <td>https://images.craigslist.org/00E0E_izNM6a51mb...</td>\n",
       "      <td>Contact at amandafiorello(at)hotmail.com\\n\\n \\...</td>\n",
       "      <td>35.058537</td>\n",
       "      <td>-106.877873</td>\n",
       "    </tr>\n",
       "    <tr>\n",
       "      <td>3</td>\n",
       "      <td>https://albuquerque.craigslist.org/cto/d/rio-r...</td>\n",
       "      <td>albuquerque</td>\n",
       "      <td>https://albuquerque.craigslist.org</td>\n",
       "      <td>2300</td>\n",
       "      <td>1971.0</td>\n",
       "      <td>ford</td>\n",
       "      <td>NaN</td>\n",
       "      <td>fair</td>\n",
       "      <td>8 cylinders</td>\n",
       "      <td>gas</td>\n",
       "      <td>...</td>\n",
       "      <td>automatic</td>\n",
       "      <td>NaN</td>\n",
       "      <td>rwd</td>\n",
       "      <td>NaN</td>\n",
       "      <td>NaN</td>\n",
       "      <td>NaN</td>\n",
       "      <td>https://images.craigslist.org/01414_gX7P5ovXx0...</td>\n",
       "      <td>CLASSIC FORD NEEDS A HOME. SERIOUS BUYERS ONLY...</td>\n",
       "      <td>35.249300</td>\n",
       "      <td>-106.681800</td>\n",
       "    </tr>\n",
       "    <tr>\n",
       "      <td>4</td>\n",
       "      <td>https://albuquerque.craigslist.org/cto/d/albuq...</td>\n",
       "      <td>albuquerque</td>\n",
       "      <td>https://albuquerque.craigslist.org</td>\n",
       "      <td>2000</td>\n",
       "      <td>1998.0</td>\n",
       "      <td>toyota</td>\n",
       "      <td>camry</td>\n",
       "      <td>good</td>\n",
       "      <td>6 cylinders</td>\n",
       "      <td>gas</td>\n",
       "      <td>...</td>\n",
       "      <td>automatic</td>\n",
       "      <td>NaN</td>\n",
       "      <td>NaN</td>\n",
       "      <td>compact</td>\n",
       "      <td>NaN</td>\n",
       "      <td>NaN</td>\n",
       "      <td>https://images.craigslist.org/00L0L_oXTsooKih6...</td>\n",
       "      <td>Good running car. Great on gas. It has a sunro...</td>\n",
       "      <td>35.058537</td>\n",
       "      <td>-106.877873</td>\n",
       "    </tr>\n",
       "  </tbody>\n",
       "</table>\n",
       "<p>5 rows × 22 columns</p>\n",
       "</div>"
      ],
      "text/plain": [
       "                                                 url         city  \\\n",
       "0  https://albuquerque.craigslist.org/cto/d/albuq...  albuquerque   \n",
       "1  https://albuquerque.craigslist.org/cto/d/albuq...  albuquerque   \n",
       "2  https://albuquerque.craigslist.org/ctd/d/albuq...  albuquerque   \n",
       "3  https://albuquerque.craigslist.org/cto/d/rio-r...  albuquerque   \n",
       "4  https://albuquerque.craigslist.org/cto/d/albuq...  albuquerque   \n",
       "\n",
       "                             city_url  price    year manufacturer     make  \\\n",
       "0  https://albuquerque.craigslist.org   1500  2005.0      hyundai  elantra   \n",
       "1  https://albuquerque.craigslist.org  10000  2010.0          bmw    535xi   \n",
       "2  https://albuquerque.craigslist.org   2000  2005.0       toyota   tacoma   \n",
       "3  https://albuquerque.craigslist.org   2300  1971.0         ford      NaN   \n",
       "4  https://albuquerque.craigslist.org   2000  1998.0       toyota    camry   \n",
       "\n",
       "  condition    cylinders fuel  ...  transmission  VIN drive      size   type  \\\n",
       "0      good  4 cylinders  gas  ...     automatic  NaN   fwd  mid-size  sedan   \n",
       "1      good  6 cylinders  gas  ...     automatic  NaN   NaN       NaN  sedan   \n",
       "2       NaN          NaN  gas  ...     automatic  NaN   NaN       NaN    NaN   \n",
       "3      fair  8 cylinders  gas  ...     automatic  NaN   rwd       NaN    NaN   \n",
       "4      good  6 cylinders  gas  ...     automatic  NaN   NaN   compact    NaN   \n",
       "\n",
       "  paint_color                                          image_url  \\\n",
       "0        blue  https://images.craigslist.org/00C0C_jxcguIkSFN...   \n",
       "1       white  https://images.craigslist.org/00t0t_cy5QmA1gOF...   \n",
       "2         NaN  https://images.craigslist.org/00E0E_izNM6a51mb...   \n",
       "3         NaN  https://images.craigslist.org/01414_gX7P5ovXx0...   \n",
       "4         NaN  https://images.craigslist.org/00L0L_oXTsooKih6...   \n",
       "\n",
       "                                                desc        lat        long  \n",
       "0  Selling a 2005 Hyundai Elantra 2.0 4 cylinder....  35.156142 -106.656501  \n",
       "1  2010 BMW 535xi\\nAll wheel drive \\n120,000\\nCle...  35.151887 -106.708317  \n",
       "2  Contact at amandafiorello(at)hotmail.com\\n\\n \\...  35.058537 -106.877873  \n",
       "3  CLASSIC FORD NEEDS A HOME. SERIOUS BUYERS ONLY...  35.249300 -106.681800  \n",
       "4  Good running car. Great on gas. It has a sunro...  35.058537 -106.877873  \n",
       "\n",
       "[5 rows x 22 columns]"
      ]
     },
     "execution_count": 4,
     "metadata": {},
     "output_type": "execute_result"
    }
   ],
   "source": [
    "inCL.head()"
   ]
  },
  {
   "cell_type": "code",
   "execution_count": 5,
   "metadata": {},
   "outputs": [
    {
     "name": "stdout",
     "output_type": "stream",
     "text": [
      "<class 'pandas.core.frame.DataFrame'>\n",
      "RangeIndex: 443405 entries, 0 to 443404\n",
      "Data columns (total 22 columns):\n",
      "url             443405 non-null object\n",
      "city            443405 non-null object\n",
      "city_url        443405 non-null object\n",
      "price           443405 non-null int64\n",
      "year            442625 non-null float64\n",
      "manufacturer    416632 non-null object\n",
      "make            431719 non-null object\n",
      "condition       247168 non-null object\n",
      "cylinders       265822 non-null object\n",
      "fuel            439771 non-null object\n",
      "odometer        350614 non-null float64\n",
      "title_status    441334 non-null object\n",
      "transmission    440070 non-null object\n",
      "VIN             240560 non-null object\n",
      "drive           309654 non-null object\n",
      "size            152501 non-null object\n",
      "type            311390 non-null object\n",
      "paint_color     297871 non-null object\n",
      "image_url       443393 non-null object\n",
      "desc            443391 non-null object\n",
      "lat             442580 non-null float64\n",
      "long            442580 non-null float64\n",
      "dtypes: float64(4), int64(1), object(17)\n",
      "memory usage: 74.4+ MB\n"
     ]
    }
   ],
   "source": [
    "inCL.info()"
   ]
  },
  {
   "cell_type": "code",
   "execution_count": 6,
   "metadata": {
    "scrolled": true
   },
   "outputs": [
    {
     "data": {
      "text/html": [
       "\n",
       "        <iframe\n",
       "            width=\"100%\"\n",
       "            height=\"500px\"\n",
       "            src=\"heatmap.html\"\n",
       "            frameborder=\"0\"\n",
       "            allowfullscreen\n",
       "        ></iframe>\n",
       "        "
      ],
      "text/plain": [
       "<IPython.lib.display.IFrame at 0x11d641ad0>"
      ]
     },
     "execution_count": 6,
     "metadata": {},
     "output_type": "execute_result"
    }
   ],
   "source": [
    "import folium \n",
    "from IPython.display import IFrame\n",
    "\n",
    "def embed_map(m, file_name):\n",
    "    m.save(file_name)\n",
    "    return IFrame(file_name, width='100%', height='500px')\n",
    "\n",
    "inCLNoMapNaNs = inCL.dropna(subset=['lat','long'])\n",
    "heatmap = folium.Map(tiles='cartodbpositron') \n",
    "from folium.plugins import HeatMap\n",
    "HeatMap(data=inCLNoMapNaNs[['lat', 'long']], radius=8).add_to(heatmap)\n",
    "embed_map(heatmap, \"heatmap.html\")\n",
    "\n"
   ]
  },
  {
   "cell_type": "markdown",
   "metadata": {},
   "source": [
    "Some (lat,long) are nonsensical, and some are missing ...\n",
    "But it looks like we have city information for each data point.\n",
    "That is certainly granular enough."
   ]
  },
  {
   "cell_type": "code",
   "execution_count": 7,
   "metadata": {},
   "outputs": [],
   "source": [
    "inCL.drop(columns=['lat','long'],inplace=True)"
   ]
  },
  {
   "cell_type": "code",
   "execution_count": 8,
   "metadata": {},
   "outputs": [],
   "source": [
    "cities = inCL['city'].unique()"
   ]
  },
  {
   "cell_type": "code",
   "execution_count": 9,
   "metadata": {},
   "outputs": [
    {
     "data": {
      "text/plain": [
       "array(['albuquerque', 'altoona-johnstown', 'amarillo, TX', 'ames, IA',\n",
       "       'anchorage / mat-su', 'annapolis, MD', 'ann arbor, MI',\n",
       "       'appleton-oshkosh-FDL', 'asheville, NC', 'ashtabula, OH',\n",
       "       'athens, GA', 'athens, OH', 'atlanta, GA', 'auburn, AL',\n",
       "       'augusta, GA', 'austin, TX', 'bakersfield, CA', 'baltimore, MD',\n",
       "       'baton rouge', 'battle creek, MI', 'beaumont / port arthur',\n",
       "       'bellingham, WA', 'bemidji, MN', 'bend, OR', 'billings, MT',\n",
       "       'binghamton, NY', 'birmingham, AL', 'bismarck, ND',\n",
       "       'bloomington, IN', 'bloomington-normal', 'boise, ID', 'boone, NC',\n",
       "       'boston', 'boulder, CO', 'bowling green, KY', 'bozeman, MT',\n",
       "       'brainerd, MN', 'brownsville, TX', 'brunswick, GA', 'buffalo, NY',\n",
       "       'butte, MT', 'cape cod / islands', 'catskills', 'cedar rapids, IA',\n",
       "       'central louisiana', 'central michigan', 'central NJ',\n",
       "       'champaign urbana', 'charleston, SC', 'charleston, WV',\n",
       "       'charlotte, NC', 'charlottesville, VA', 'chattanooga, TN',\n",
       "       'chautauqua, NY', 'chicago', 'chico, CA', 'chillicothe, OH',\n",
       "       'cincinnati, OH', 'clarksville, TN', 'cleveland, OH',\n",
       "       'clovis / portales', 'college station, TX', 'colorado springs',\n",
       "       'columbia / jeff city', 'columbia, SC', 'columbus, GA',\n",
       "       'columbus, OH', 'cookeville, TN', 'corpus christi, TX',\n",
       "       'corvallis/albany', 'cumberland valley', 'dallas / fort worth',\n",
       "       'danville', 'daytona beach', 'dayton / springfield', 'decatur, IL',\n",
       "       'deep east texas', 'delaware', 'del rio / eagle pass',\n",
       "       'denver, CO', 'des moines, IA', 'detroit metro', 'dothan, AL',\n",
       "       'dubuque', 'duluth / superior', 'eastern CO', 'eastern CT',\n",
       "       'eastern kentucky', 'eastern montana', 'eastern NC',\n",
       "       'eastern panhandle', 'eastern shore', 'east idaho', 'east oregon',\n",
       "       'eau claire, WI', 'elko, NV', 'elmira-corning', 'el paso, TX',\n",
       "       'erie, PA', 'eugene, OR', 'evansville, IN', 'fairbanks, AK',\n",
       "       'fargo / moorhead', 'farmington, NM', 'fayetteville, AR',\n",
       "       'fayetteville, NC', 'finger lakes, NY', 'flagstaff / sedona',\n",
       "       'flint, MI', 'florence / muscle shoals', 'florence, SC',\n",
       "       'florida keys', 'fort collins / north CO', 'fort dodge, IA',\n",
       "       'fort smith, AR', 'fort wayne, IN', 'frederick, MD',\n",
       "       'fredericksburg, VA', 'fresno / madera', 'ft myers / SW florida',\n",
       "       'gadsden-anniston', 'gainesville, FL', 'galveston, TX',\n",
       "       'glens falls, NY', 'gold country', 'grand forks',\n",
       "       'grand island, NE', 'grand rapids, MI', 'great falls, MT',\n",
       "       'green bay, WI', 'greensboro, NC', 'greenville / upstate',\n",
       "       'gulfport / biloxi', 'hanford-corcoran', 'harrisburg, PA',\n",
       "       'harrisonburg, VA', 'hartford, CT', 'hattiesburg, MS', 'hawaii',\n",
       "       'heartland florida', 'helena, MT', 'hickory / lenoir',\n",
       "       'high rockies', 'hilton head', 'holland, MI', 'houma, LA',\n",
       "       'houston, TX', 'hudson valley, NY', 'humboldt county',\n",
       "       'huntington-ashland', 'huntsville / decatur', 'imperial county',\n",
       "       'indianapolis', 'inland empire, CA', 'iowa city, IA', 'ithaca, NY',\n",
       "       'jackson, MI', 'jackson, MS', 'jackson, TN', 'jacksonville, FL',\n",
       "       'jacksonville, NC', 'janesville, WI', 'jersey shore',\n",
       "       'jonesboro, AR', 'joplin, MO', 'kalamazoo, MI', 'kalispell, MT',\n",
       "       'kansas city, MO', 'kenai peninsula', 'kennewick-pasco-richland',\n",
       "       'killeen / temple / ft hood', 'kirksville, MO',\n",
       "       'klamath falls, OR', 'knoxville, TN', 'kokomo, IN',\n",
       "       'la crosse, WI', 'lafayette, LA', 'lafayette / west lafayette',\n",
       "       'lake charles, LA', 'lakeland, FL', 'lake of the ozarks',\n",
       "       'lancaster, PA', 'lansing, MI', 'laredo, TX', 'la salle co',\n",
       "       'las cruces, NM', 'las vegas', 'lawrence, KS', 'lawton, OK',\n",
       "       'lehigh valley', 'lewiston / clarkston', 'lexington, KY',\n",
       "       'lima / findlay', 'lincoln, NE', 'little rock', 'logan, UT',\n",
       "       'long island, NY', 'los angeles', 'louisville, KY', 'lubbock, TX',\n",
       "       'lynchburg, VA', 'macon / warner robins', 'madison, WI', 'maine',\n",
       "       'manhattan, KS', 'mankato, MN', 'mansfield, OH', 'mason city, IA',\n",
       "       'mattoon-charleston', 'mcallen / edinburg', 'meadville, PA',\n",
       "       'medford-ashland', 'memphis, TN', 'mendocino county', 'merced, CA',\n",
       "       'meridian, MS', 'milwaukee, WI', 'minneapolis / st paul',\n",
       "       'missoula, MT', 'mobile, AL', 'modesto, CA', 'mohave county',\n",
       "       'monroe, LA', 'monroe, MI', 'monterey bay', 'montgomery, AL',\n",
       "       'morgantown, WV', 'moses lake, WA', 'muncie / anderson',\n",
       "       'muskegon, MI', 'myrtle beach, SC', 'new hampshire',\n",
       "       'new haven, CT', 'new orleans', 'new river valley',\n",
       "       'new york city', 'norfolk / hampton roads', 'north central FL',\n",
       "       'north dakota', 'northeast SD', 'northern michigan',\n",
       "       'northern panhandle', 'northern WI', 'north jersey',\n",
       "       'north mississippi', 'north platte, NE', 'northwest CT',\n",
       "       'northwest GA', 'northwest KS', 'northwest OK', 'ocala, FL',\n",
       "       'odessa / midland', 'ogden-clearfield', 'okaloosa / walton',\n",
       "       'oklahoma city', 'olympic peninsula', 'omaha / council bluffs',\n",
       "       'oneonta, NY', 'orange county, CA', 'oregon coast', 'orlando, FL',\n",
       "       'outer banks', 'owensboro, KY', 'palm springs, CA',\n",
       "       'panama city, FL', 'parkersburg-marietta', 'pensacola, FL',\n",
       "       'peoria, IL', 'philadelphia', 'phoenix, AZ', 'pierre / central SD',\n",
       "       'pittsburgh, PA', 'plattsburgh-adirondacks', 'poconos',\n",
       "       'port huron, MI', 'portland, OR', 'prescott, AZ', 'provo / orem',\n",
       "       'pueblo, CO', 'pullman / moscow', 'quad cities, IA/IL',\n",
       "       'raleigh / durham / CH', 'rapid city / west SD', 'reading, PA',\n",
       "       'redding, CA', 'reno / tahoe', 'rhode island', 'richmond, IN',\n",
       "       'richmond, VA', 'roanoke, VA', 'rochester, MN', 'rochester, NY',\n",
       "       'rockford, IL', 'roseburg, OR', 'roswell / carlsbad', 'sacramento',\n",
       "       'saginaw-midland-baycity', 'salem, OR', 'salina, KS',\n",
       "       'salt lake city', 'san angelo, TX', 'san antonio', 'san diego',\n",
       "       'sandusky, OH', 'san luis obispo', 'san marcos, TX',\n",
       "       'santa barbara', 'santa fe / taos', 'santa maria, CA',\n",
       "       'sarasota-bradenton', 'savannah / hinesville',\n",
       "       'scottsbluff / panhandle', 'scranton / wilkes-barre',\n",
       "       'seattle-tacoma', 'SF bay area', 'sheboygan, WI', 'show low, AZ',\n",
       "       'shreveport, LA', 'sierra vista, AZ', 'sioux city, IA',\n",
       "       'sioux falls / SE SD', 'siskiyou county', 'skagit / island / SJI',\n",
       "       'south bend / michiana', 'south coast, MA', 'south dakota',\n",
       "       'southeast alaska', 'southeast IA', 'southeast KS',\n",
       "       'southeast missouri', 'southern illinois', 'southern maryland',\n",
       "       'southern WV', 'south florida', 'south jersey', 'southwest KS',\n",
       "       'southwest michigan', 'southwest MN', 'southwest MS',\n",
       "       'southwest TX', 'southwest VA', 'space coast, FL',\n",
       "       \"spokane / coeur d'alene\", 'springfield, IL', 'springfield, MO',\n",
       "       'state college, PA', 'statesboro, GA', 'st augustine, FL',\n",
       "       'st cloud, MN', 'st george, UT', 'stillwater, OK', 'st joseph',\n",
       "       'st louis, MO', 'stockton, CA', 'susanville, CA', 'syracuse, NY',\n",
       "       'tallahassee', 'tampa bay area', 'terre haute, IN', 'texarkana',\n",
       "       'texoma', 'the thumb, MI', 'toledo, OH', 'topeka, KS',\n",
       "       'treasure coast, FL', 'tri-cities, TN', 'tucson, AZ', 'tulsa, OK',\n",
       "       'tuscaloosa', 'tuscarawas co', 'twin falls, ID',\n",
       "       'twin tiers NY/PA', 'tyler / east TX', 'upper peninsula, MI',\n",
       "       'utica-rome-oneida', 'valdosta, GA', 'ventura county', 'vermont',\n",
       "       'victoria, TX', 'visalia-tulare', 'waco, TX', 'washington, DC',\n",
       "       'waterloo / cedar falls', 'watertown, NY', 'wausau, WI',\n",
       "       'wenatchee, WA', 'western IL', 'western KY', 'western maryland',\n",
       "       'western massachusetts', 'western slope', 'west virginia (old)',\n",
       "       'wichita falls, TX', 'wichita, KS', 'williamsport, PA',\n",
       "       'wilmington, NC', 'winchester, VA', 'winston-salem, NC',\n",
       "       'worcester / central MA', 'wyoming', 'yakima, WA', 'york, PA',\n",
       "       'youngstown, OH', 'yuba-sutter, CA', 'yuma, AZ',\n",
       "       'zanesville / cambridge'], dtype=object)"
      ]
     },
     "execution_count": 9,
     "metadata": {},
     "output_type": "execute_result"
    }
   ],
   "source": [
    "cities"
   ]
  },
  {
   "cell_type": "code",
   "execution_count": null,
   "metadata": {},
   "outputs": [],
   "source": []
  },
  {
   "cell_type": "code",
   "execution_count": 10,
   "metadata": {},
   "outputs": [
    {
     "data": {
      "text/html": [
       "<div>\n",
       "<style scoped>\n",
       "    .dataframe tbody tr th:only-of-type {\n",
       "        vertical-align: middle;\n",
       "    }\n",
       "\n",
       "    .dataframe tbody tr th {\n",
       "        vertical-align: top;\n",
       "    }\n",
       "\n",
       "    .dataframe thead th {\n",
       "        text-align: right;\n",
       "    }\n",
       "</style>\n",
       "<table border=\"1\" class=\"dataframe\">\n",
       "  <thead>\n",
       "    <tr style=\"text-align: right;\">\n",
       "      <th></th>\n",
       "      <th>url</th>\n",
       "      <th>city</th>\n",
       "      <th>price</th>\n",
       "      <th>year</th>\n",
       "      <th>manufacturer</th>\n",
       "      <th>make</th>\n",
       "      <th>condition</th>\n",
       "      <th>cylinders</th>\n",
       "      <th>fuel</th>\n",
       "      <th>odometer</th>\n",
       "      <th>...</th>\n",
       "      <th>paint_color</th>\n",
       "      <th>image_url</th>\n",
       "      <th>lat</th>\n",
       "      <th>long</th>\n",
       "      <th>county_fips</th>\n",
       "      <th>county_name</th>\n",
       "      <th>state_fips</th>\n",
       "      <th>state_code</th>\n",
       "      <th>state_name</th>\n",
       "      <th>weather</th>\n",
       "    </tr>\n",
       "  </thead>\n",
       "  <tbody>\n",
       "    <tr>\n",
       "      <td>0</td>\n",
       "      <td>https://marshall.craigslist.org/cto/d/2010-dod...</td>\n",
       "      <td>marshall</td>\n",
       "      <td>11900</td>\n",
       "      <td>2010.0</td>\n",
       "      <td>dodge</td>\n",
       "      <td>challenger se</td>\n",
       "      <td>good</td>\n",
       "      <td>6 cylinders</td>\n",
       "      <td>gas</td>\n",
       "      <td>43600.0</td>\n",
       "      <td>...</td>\n",
       "      <td>red</td>\n",
       "      <td>https://images.craigslist.org/00i0i_2ggH1eKDNK...</td>\n",
       "      <td>43.4775</td>\n",
       "      <td>-96.7041</td>\n",
       "      <td>46083.0</td>\n",
       "      <td>Lincoln</td>\n",
       "      <td>46.0</td>\n",
       "      <td>SD</td>\n",
       "      <td>South Dakota</td>\n",
       "      <td>38.0</td>\n",
       "    </tr>\n",
       "    <tr>\n",
       "      <td>1</td>\n",
       "      <td>https://marshall.craigslist.org/cto/d/fleetwoo...</td>\n",
       "      <td>marshall</td>\n",
       "      <td>1515</td>\n",
       "      <td>1999.0</td>\n",
       "      <td>NaN</td>\n",
       "      <td>fleetwood</td>\n",
       "      <td>NaN</td>\n",
       "      <td>NaN</td>\n",
       "      <td>gas</td>\n",
       "      <td>NaN</td>\n",
       "      <td>...</td>\n",
       "      <td>NaN</td>\n",
       "      <td>https://images.craigslist.org/00M0M_irjh7SjEcU...</td>\n",
       "      <td>44.7612</td>\n",
       "      <td>-96.6907</td>\n",
       "      <td>46039.0</td>\n",
       "      <td>Deuel</td>\n",
       "      <td>46.0</td>\n",
       "      <td>SD</td>\n",
       "      <td>South Dakota</td>\n",
       "      <td>38.0</td>\n",
       "    </tr>\n",
       "    <tr>\n",
       "      <td>2</td>\n",
       "      <td>https://marshall.craigslist.org/cto/d/2008-for...</td>\n",
       "      <td>marshall</td>\n",
       "      <td>17550</td>\n",
       "      <td>2008.0</td>\n",
       "      <td>ford</td>\n",
       "      <td>f-150</td>\n",
       "      <td>NaN</td>\n",
       "      <td>NaN</td>\n",
       "      <td>gas</td>\n",
       "      <td>NaN</td>\n",
       "      <td>...</td>\n",
       "      <td>NaN</td>\n",
       "      <td>https://images.craigslist.org/00s0s_eL2XFhEUcx...</td>\n",
       "      <td>44.1415</td>\n",
       "      <td>-103.2052</td>\n",
       "      <td>46093.0</td>\n",
       "      <td>Meade</td>\n",
       "      <td>46.0</td>\n",
       "      <td>SD</td>\n",
       "      <td>South Dakota</td>\n",
       "      <td>38.0</td>\n",
       "    </tr>\n",
       "    <tr>\n",
       "      <td>3</td>\n",
       "      <td>https://marshall.craigslist.org/cto/d/ford-tau...</td>\n",
       "      <td>marshall</td>\n",
       "      <td>2800</td>\n",
       "      <td>2004.0</td>\n",
       "      <td>ford</td>\n",
       "      <td>taurus</td>\n",
       "      <td>good</td>\n",
       "      <td>6 cylinders</td>\n",
       "      <td>gas</td>\n",
       "      <td>168591.0</td>\n",
       "      <td>...</td>\n",
       "      <td>grey</td>\n",
       "      <td>https://images.craigslist.org/00L0L_5HUR1nQjt8...</td>\n",
       "      <td>43.2845</td>\n",
       "      <td>-95.5930</td>\n",
       "      <td>19143.0</td>\n",
       "      <td>Osceola</td>\n",
       "      <td>19.0</td>\n",
       "      <td>IA</td>\n",
       "      <td>Iowa</td>\n",
       "      <td>47.0</td>\n",
       "    </tr>\n",
       "    <tr>\n",
       "      <td>4</td>\n",
       "      <td>https://marshall.craigslist.org/cto/d/2001-gra...</td>\n",
       "      <td>marshall</td>\n",
       "      <td>400</td>\n",
       "      <td>2001.0</td>\n",
       "      <td>NaN</td>\n",
       "      <td>2001 Grand Prix</td>\n",
       "      <td>NaN</td>\n",
       "      <td>NaN</td>\n",
       "      <td>gas</td>\n",
       "      <td>217000.0</td>\n",
       "      <td>...</td>\n",
       "      <td>NaN</td>\n",
       "      <td>https://images.craigslist.org/00n0n_bJJ1XnonSG...</td>\n",
       "      <td>43.0261</td>\n",
       "      <td>-94.4064</td>\n",
       "      <td>19109.0</td>\n",
       "      <td>Kossuth</td>\n",
       "      <td>19.0</td>\n",
       "      <td>IA</td>\n",
       "      <td>Iowa</td>\n",
       "      <td>47.0</td>\n",
       "    </tr>\n",
       "  </tbody>\n",
       "</table>\n",
       "<p>5 rows × 26 columns</p>\n",
       "</div>"
      ],
      "text/plain": [
       "                                                 url      city  price    year  \\\n",
       "0  https://marshall.craigslist.org/cto/d/2010-dod...  marshall  11900  2010.0   \n",
       "1  https://marshall.craigslist.org/cto/d/fleetwoo...  marshall   1515  1999.0   \n",
       "2  https://marshall.craigslist.org/cto/d/2008-for...  marshall  17550  2008.0   \n",
       "3  https://marshall.craigslist.org/cto/d/ford-tau...  marshall   2800  2004.0   \n",
       "4  https://marshall.craigslist.org/cto/d/2001-gra...  marshall    400  2001.0   \n",
       "\n",
       "  manufacturer             make condition    cylinders fuel  odometer  ...  \\\n",
       "0        dodge    challenger se      good  6 cylinders  gas   43600.0  ...   \n",
       "1          NaN        fleetwood       NaN          NaN  gas       NaN  ...   \n",
       "2         ford            f-150       NaN          NaN  gas       NaN  ...   \n",
       "3         ford           taurus      good  6 cylinders  gas  168591.0  ...   \n",
       "4          NaN  2001 Grand Prix       NaN          NaN  gas  217000.0  ...   \n",
       "\n",
       "  paint_color                                          image_url      lat  \\\n",
       "0         red  https://images.craigslist.org/00i0i_2ggH1eKDNK...  43.4775   \n",
       "1         NaN  https://images.craigslist.org/00M0M_irjh7SjEcU...  44.7612   \n",
       "2         NaN  https://images.craigslist.org/00s0s_eL2XFhEUcx...  44.1415   \n",
       "3        grey  https://images.craigslist.org/00L0L_5HUR1nQjt8...  43.2845   \n",
       "4         NaN  https://images.craigslist.org/00n0n_bJJ1XnonSG...  43.0261   \n",
       "\n",
       "       long county_fips county_name state_fips state_code    state_name  \\\n",
       "0  -96.7041     46083.0     Lincoln       46.0         SD  South Dakota   \n",
       "1  -96.6907     46039.0       Deuel       46.0         SD  South Dakota   \n",
       "2 -103.2052     46093.0       Meade       46.0         SD  South Dakota   \n",
       "3  -95.5930     19143.0     Osceola       19.0         IA          Iowa   \n",
       "4  -94.4064     19109.0     Kossuth       19.0         IA          Iowa   \n",
       "\n",
       "   weather  \n",
       "0     38.0  \n",
       "1     38.0  \n",
       "2     38.0  \n",
       "3     47.0  \n",
       "4     47.0  \n",
       "\n",
       "[5 rows x 26 columns]"
      ]
     },
     "execution_count": 10,
     "metadata": {},
     "output_type": "execute_result"
    }
   ],
   "source": [
    "# start looking at other csv\n",
    "inCF.head()"
   ]
  },
  {
   "cell_type": "code",
   "execution_count": 11,
   "metadata": {
    "scrolled": true
   },
   "outputs": [
    {
     "name": "stdout",
     "output_type": "stream",
     "text": [
      "<class 'pandas.core.frame.DataFrame'>\n",
      "RangeIndex: 1723065 entries, 0 to 1723064\n",
      "Data columns (total 26 columns):\n",
      "url             object\n",
      "city            object\n",
      "price           int64\n",
      "year            float64\n",
      "manufacturer    object\n",
      "make            object\n",
      "condition       object\n",
      "cylinders       object\n",
      "fuel            object\n",
      "odometer        float64\n",
      "title_status    object\n",
      "transmission    object\n",
      "vin             object\n",
      "drive           object\n",
      "size            object\n",
      "type            object\n",
      "paint_color     object\n",
      "image_url       object\n",
      "lat             float64\n",
      "long            float64\n",
      "county_fips     float64\n",
      "county_name     object\n",
      "state_fips      float64\n",
      "state_code      object\n",
      "state_name      object\n",
      "weather         float64\n",
      "dtypes: float64(7), int64(1), object(18)\n",
      "memory usage: 341.8+ MB\n"
     ]
    }
   ],
   "source": [
    "inCF.info()"
   ]
  },
  {
   "cell_type": "code",
   "execution_count": 12,
   "metadata": {},
   "outputs": [
    {
     "name": "stdout",
     "output_type": "stream",
     "text": [
      "['marshall' 'soo' 'whistler' 'easttexas' 'skeena' 'lasvegas' 'hartford'\n",
      " 'reading' 'chambersburg' 'meadville' 'rapidcity' 'roseburg'\n",
      " 'orangecounty' 'rockford' 'hat' 'salina' 'lascruces' 'nd' 'allentown'\n",
      " 'csd' 'mattoon' 'humboldt' 'goldcountry' 'dothan' 'pittsburgh' 'lakecity'\n",
      " 'maine' 'charlotte' 'lewiston' 'cnj' 'wilmington' 'syracuse' 'columbia'\n",
      " 'tucson' 'asheville' 'providence' 'mcallen' 'butte' 'lakecharles'\n",
      " 'showlow' 'frederick' 'thumb' 'ogden' 'lethbridge' 'youngstown' 'erie'\n",
      " 'anchorage' 'yellowknife' 'appleton' 'springfieldil' 'glensfalls'\n",
      " 'norfolk' 'nh' 'sheboygan' 'yuma' 'cookeville' 'kenai' 'loz'\n",
      " 'plattsburgh' 'stlouis' 'brownsville' 'savannah' 'clovis' 'baltimore'\n",
      " 'kingston' 'roswell' 'spokane' 'battlecreek' 'boone' 'regina' 'hanford'\n",
      " 'tuscarawas' 'cosprings' 'cedarrapids' 'orlando' 'helena' 'blacksburg'\n",
      " 'skagit' 'nmi' 'santafe' 'whitehorse' 'fayetteville' 'kansascity'\n",
      " 'edmonton' 'pullman' 'eauclaire' 'oklahomacity' 'amarillo' 'york' 'bgky'\n",
      " 'keys' 'stjoseph' 'natchez' 'swmi' 'fortmyers' 'shoals' 'fortwayne'\n",
      " 'wichitafalls' 'annarbor' 'denver' 'lasalle' 'lafayette' 'galveston'\n",
      " 'medford' 'yubasutter' 'indianapolis' 'jacksonville' 'philadelphia'\n",
      " 'cariboo' 'eastoregon' 'corvallis' 'fairbanks' 'stillwater' 'ames'\n",
      " 'kootenays' 'lakeland' 'buffalo' 'joplin' 'jacksontn' 'sunshine' 'texoma'\n",
      " 'zanesville' 'daytona' 'peoria' 'boulder' 'potsdam' 'westernmass'\n",
      " 'kamloops' 'racine' 'siouxcity' 'newjersey' 'belleville' 'delrio'\n",
      " 'kitchener' 'huntsville' 'parkersburg' 'austin' 'prescott' 'swv' 'enid'\n",
      " 'lancaster' 'duluth' 'valdosta' 'farmington' 'jxn' 'greenbay' 'killeen'\n",
      " 'modesto' 'nanaimo' 'sierravista' 'treasure' 'rochester' 'greenville'\n",
      " 'carbondale' 'newhaven' 'minneapolis' 'susanville' 'merced' 'okaloosa'\n",
      " 'lubbock' 'olympic' 'masoncity' 'panamacity' 'hamilton' 'victoriatx'\n",
      " 'dayton' 'littlerock' 'tricities' 'monterey' 'toledo' 'stgeorge'\n",
      " 'outerbanks' 'southcoast' 'macon' 'chillicothe' 'morgantown' 'fortdodge'\n",
      " 'tallahassee' 'palmsprings' 'quincy' 'peterborough' 'gainesville' 'tulsa'\n",
      " 'monroe' 'roanoke' 'martinsburg' 'saginaw' 'flagstaff' 'cfl' 'laredo'\n",
      " 'wv' 'danville' 'lincoln' 'elmira' 'mansfield' 'utica' 'sanantonio'\n",
      " 'missoula' 'reno' 'thunderbay' 'imperial' 'easternshore' 'londonon'\n",
      " 'bloomington' 'kirksville' 'odessa' 'detroit' 'southbend' 'springfield'\n",
      " 'twintiers' 'vermont' 'capecod' 'quadcities' 'richmond' 'louisville'\n",
      " 'bellingham' 'niagara' 'gulfport' 'sandiego' 'tippecanoe' 'bigbend'\n",
      " 'toronto' 'topeka' 'wyoming' 'boise' 'swva' 'billings' 'comoxvalley'\n",
      " 'scranton' 'longisland' 'nwct' 'hattiesburg' 'eugene' 'sarnia' 'slo'\n",
      " 'rmn' 'chambana' 'cleveland' 'bemidji' 'houma' 'stcloud' 'sanmarcos'\n",
      " 'phoenix' 'holland' 'harrisburg' 'fargo' 'newbrunswick' 'washingtondc'\n",
      " 'nwks' 'collegestation' 'logan' 'meridian' 'hickory' 'pei' 'memphis'\n",
      " 'albany' 'huntington' 'halifax' 'fortsmith' 'hudsonvalley' 'raleigh'\n",
      " 'sanangelo' 'jerseyshore' 'kelowna' 'up' 'brainerd' 'northmiss'\n",
      " 'eastidaho' 'janesville' 'delaware' 'chautauqua' 'waterloo' 'montana'\n",
      " 'saltlakecity' 'grandisland' 'columbusga' 'chico' 'semo' 'lansing'\n",
      " 'augusta' 'lexington' 'omaha' 'northernwi' 'tuscaloosa' 'wichita'\n",
      " 'yakima' 'batonrouge' 'eastco' 'clarksville' 'fredericksburg' 'catskills'\n",
      " 'smd' 'siouxfalls' 'mohave' 'bakersfield' 'terrehaute' 'elko' 'moseslake'\n",
      " 'grandforks' 'annapolis' 'bend' 'beaumont' 'newfoundland' 'newlondon'\n",
      " 'oregoncoast' 'madison' 'desmoines' 'fingerlakes' 'statesboro' 'montreal'\n",
      " 'watertown' 'poconos' 'ashtabula' 'abilene' 'staugustine' 'quebec'\n",
      " 'sandusky' 'worcester' 'wheeling' 'boston' 'nwga' 'binghamton'\n",
      " 'harrisonburg' 'winstonsalem' 'greatfalls' 'seks' 'ksu' 'bn' 'nashville'\n",
      " 'sd' 'lawrence' 'brunswick' 'ottumwa' 'bozeman' 'lawton' 'jackson'\n",
      " 'columbiamo' 'evansville' 'ventura' 'cenla' 'akroncanton' 'muncie'\n",
      " 'texarkana' 'richmondin' 'fayar' 'westky' 'decatur' 'nacogdoches'\n",
      " 'kokomo' 'knoxville' 'dubuque' 'iowacity' 'jonesboro' 'athensga'\n",
      " 'atlanta' 'auburn' 'lacrosse' 'mankato' 'milwaukee' 'dallas' 'columbus'\n",
      " 'chicago' 'montgomery' 'albanyga' 'houston' 'oneonta' 'grandrapids'\n",
      " 'waco' 'windsor' 'albuquerque' 'bham' 'charlestonwv' 'chattanooga'\n",
      " 'monroemi' 'winnipeg' 'cincinnati' 'northplatte' 'scottsbluff' 'elpaso'\n",
      " 'charleston' 'wausau' 'fortcollins' 'mobile' 'ocala' 'chihuahua' 'juarez'\n",
      " 'rockies' 'florencesc' 'greensboro' 'westslope' 'inlandempire'\n",
      " 'losangeles' 'brantford' 'charlottesville' 'pensacola' 'lynchburg'\n",
      " 'myrtlebeach' 'hiltonhead' 'eastnc' 'onslow' 'barrie' 'tampa'\n",
      " 'neworleans' 'westmd' 'winchester' 'saskatoon' 'seattle' 'victoria'\n",
      " 'vancouver' 'klamath' 'mendocino' 'redding' 'southjersey' 'williamsport'\n",
      " 'kalamazoo' 'abbotsford' 'muskegon' 'ftmcmurray' 'ithaca' 'athensohio'\n",
      " 'stockton' 'santamaria' 'troisrivieres' 'ottawa' 'wenatchee' 'newyork'\n",
      " 'porthuron' 'pennstate' 'cornwall' 'pueblo' 'sarasota' 'miami' 'visalia'\n",
      " 'chatham' 'flint' 'kpr' 'gadsden' 'shreveport' 'peace' 'sfbay'\n",
      " 'sacramento' 'salem' 'sherbrooke' 'princegeorge' 'hermosillo' 'fresno'\n",
      " 'calgary' 'swks' 'eastky' 'monterrey' 'twinfalls' 'santabarbara'\n",
      " 'portland' 'reddeer' 'corpuschristi' 'owensound' 'kalispell' 'guelph'\n",
      " 'siskiyou' 'sudbury' 'bismarck' 'nesd' 'owensboro' 'limaohio' 'provo'\n",
      " 'spacecoast' 'altoona' 'centralmich' 'territories' 'juneau']\n"
     ]
    }
   ],
   "source": [
    "print(inCF['city'].unique())"
   ]
  },
  {
   "cell_type": "code",
   "execution_count": 13,
   "metadata": {},
   "outputs": [],
   "source": [
    "# merge these tables and remove duplicates\n",
    "# looks like the CF city names here correspond exactly to the CL url\n",
    "# use this for merging"
   ]
  },
  {
   "cell_type": "code",
   "execution_count": 14,
   "metadata": {},
   "outputs": [
    {
     "name": "stdout",
     "output_type": "stream",
     "text": [
      "0         https://albuquerque.craigslist.org\n",
      "1         https://albuquerque.craigslist.org\n",
      "2         https://albuquerque.craigslist.org\n",
      "3         https://albuquerque.craigslist.org\n",
      "4         https://albuquerque.craigslist.org\n",
      "                         ...                \n",
      "443400     https://zanesville.craigslist.org\n",
      "443401     https://zanesville.craigslist.org\n",
      "443402     https://zanesville.craigslist.org\n",
      "443403     https://zanesville.craigslist.org\n",
      "443404     https://zanesville.craigslist.org\n",
      "Name: city_url, Length: 443405, dtype: object\n"
     ]
    }
   ],
   "source": [
    "print(inCL['city_url'])"
   ]
  },
  {
   "cell_type": "code",
   "execution_count": 15,
   "metadata": {},
   "outputs": [],
   "source": [
    "# cut out https:// from start and .craigslist.org from end\n",
    "inCL['cityStandard']=inCL['city_url'].str.slice(start=8,stop=-15)"
   ]
  },
  {
   "cell_type": "code",
   "execution_count": 16,
   "metadata": {},
   "outputs": [],
   "source": [
    "inCF['cityStandard']=inCF['city']"
   ]
  },
  {
   "cell_type": "code",
   "execution_count": 17,
   "metadata": {},
   "outputs": [],
   "source": [
    "inCL = inCL.append(inCF,sort=False)"
   ]
  },
  {
   "cell_type": "code",
   "execution_count": 18,
   "metadata": {},
   "outputs": [],
   "source": [
    "inCL.drop_duplicates(subset=['url'],inplace=True)\n",
    "inCL.reset_index(drop=True, inplace=True)"
   ]
  },
  {
   "cell_type": "code",
   "execution_count": 19,
   "metadata": {},
   "outputs": [],
   "source": [
    "# this is a huge DF, remove uninteresting columns\n",
    "inCL.drop(columns=['url','paint_color','image_url','VIN','vin','title_status'],inplace=True)"
   ]
  },
  {
   "cell_type": "code",
   "execution_count": 20,
   "metadata": {},
   "outputs": [
    {
     "name": "stdout",
     "output_type": "stream",
     "text": [
      "<class 'pandas.core.frame.DataFrame'>\n",
      "RangeIndex: 2166470 entries, 0 to 2166469\n",
      "Data columns (total 24 columns):\n",
      "city            object\n",
      "city_url        object\n",
      "price           int64\n",
      "year            float64\n",
      "manufacturer    object\n",
      "make            object\n",
      "condition       object\n",
      "cylinders       object\n",
      "fuel            object\n",
      "odometer        float64\n",
      "transmission    object\n",
      "drive           object\n",
      "size            object\n",
      "type            object\n",
      "desc            object\n",
      "cityStandard    object\n",
      "lat             float64\n",
      "long            float64\n",
      "county_fips     float64\n",
      "county_name     object\n",
      "state_fips      float64\n",
      "state_code      object\n",
      "state_name      object\n",
      "weather         float64\n",
      "dtypes: float64(7), int64(1), object(16)\n",
      "memory usage: 396.7+ MB\n"
     ]
    }
   ],
   "source": [
    "inCL.info()"
   ]
  },
  {
   "cell_type": "code",
   "execution_count": 21,
   "metadata": {
    "scrolled": true
   },
   "outputs": [
    {
     "data": {
      "text/html": [
       "<div>\n",
       "<style scoped>\n",
       "    .dataframe tbody tr th:only-of-type {\n",
       "        vertical-align: middle;\n",
       "    }\n",
       "\n",
       "    .dataframe tbody tr th {\n",
       "        vertical-align: top;\n",
       "    }\n",
       "\n",
       "    .dataframe thead th {\n",
       "        text-align: right;\n",
       "    }\n",
       "</style>\n",
       "<table border=\"1\" class=\"dataframe\">\n",
       "  <thead>\n",
       "    <tr style=\"text-align: right;\">\n",
       "      <th></th>\n",
       "      <th>city</th>\n",
       "      <th>city_url</th>\n",
       "      <th>price</th>\n",
       "      <th>year</th>\n",
       "      <th>manufacturer</th>\n",
       "      <th>make</th>\n",
       "      <th>condition</th>\n",
       "      <th>cylinders</th>\n",
       "      <th>fuel</th>\n",
       "      <th>odometer</th>\n",
       "      <th>...</th>\n",
       "      <th>desc</th>\n",
       "      <th>cityStandard</th>\n",
       "      <th>lat</th>\n",
       "      <th>long</th>\n",
       "      <th>county_fips</th>\n",
       "      <th>county_name</th>\n",
       "      <th>state_fips</th>\n",
       "      <th>state_code</th>\n",
       "      <th>state_name</th>\n",
       "      <th>weather</th>\n",
       "    </tr>\n",
       "  </thead>\n",
       "  <tbody>\n",
       "    <tr>\n",
       "      <td>0</td>\n",
       "      <td>albuquerque</td>\n",
       "      <td>https://albuquerque.craigslist.org</td>\n",
       "      <td>1500</td>\n",
       "      <td>2005.0</td>\n",
       "      <td>hyundai</td>\n",
       "      <td>elantra</td>\n",
       "      <td>good</td>\n",
       "      <td>4 cylinders</td>\n",
       "      <td>gas</td>\n",
       "      <td>256000.0</td>\n",
       "      <td>...</td>\n",
       "      <td>Selling a 2005 Hyundai Elantra 2.0 4 cylinder....</td>\n",
       "      <td>albuquerque</td>\n",
       "      <td>NaN</td>\n",
       "      <td>NaN</td>\n",
       "      <td>NaN</td>\n",
       "      <td>NaN</td>\n",
       "      <td>NaN</td>\n",
       "      <td>NaN</td>\n",
       "      <td>NaN</td>\n",
       "      <td>NaN</td>\n",
       "    </tr>\n",
       "    <tr>\n",
       "      <td>1</td>\n",
       "      <td>albuquerque</td>\n",
       "      <td>https://albuquerque.craigslist.org</td>\n",
       "      <td>10000</td>\n",
       "      <td>2010.0</td>\n",
       "      <td>bmw</td>\n",
       "      <td>535xi</td>\n",
       "      <td>good</td>\n",
       "      <td>6 cylinders</td>\n",
       "      <td>gas</td>\n",
       "      <td>NaN</td>\n",
       "      <td>...</td>\n",
       "      <td>2010 BMW 535xi\\nAll wheel drive \\n120,000\\nCle...</td>\n",
       "      <td>albuquerque</td>\n",
       "      <td>NaN</td>\n",
       "      <td>NaN</td>\n",
       "      <td>NaN</td>\n",
       "      <td>NaN</td>\n",
       "      <td>NaN</td>\n",
       "      <td>NaN</td>\n",
       "      <td>NaN</td>\n",
       "      <td>NaN</td>\n",
       "    </tr>\n",
       "    <tr>\n",
       "      <td>2</td>\n",
       "      <td>albuquerque</td>\n",
       "      <td>https://albuquerque.craigslist.org</td>\n",
       "      <td>2000</td>\n",
       "      <td>2005.0</td>\n",
       "      <td>toyota</td>\n",
       "      <td>tacoma</td>\n",
       "      <td>NaN</td>\n",
       "      <td>NaN</td>\n",
       "      <td>gas</td>\n",
       "      <td>NaN</td>\n",
       "      <td>...</td>\n",
       "      <td>Contact at amandafiorello(at)hotmail.com\\n\\n \\...</td>\n",
       "      <td>albuquerque</td>\n",
       "      <td>NaN</td>\n",
       "      <td>NaN</td>\n",
       "      <td>NaN</td>\n",
       "      <td>NaN</td>\n",
       "      <td>NaN</td>\n",
       "      <td>NaN</td>\n",
       "      <td>NaN</td>\n",
       "      <td>NaN</td>\n",
       "    </tr>\n",
       "    <tr>\n",
       "      <td>3</td>\n",
       "      <td>albuquerque</td>\n",
       "      <td>https://albuquerque.craigslist.org</td>\n",
       "      <td>2300</td>\n",
       "      <td>1971.0</td>\n",
       "      <td>ford</td>\n",
       "      <td>NaN</td>\n",
       "      <td>fair</td>\n",
       "      <td>8 cylinders</td>\n",
       "      <td>gas</td>\n",
       "      <td>NaN</td>\n",
       "      <td>...</td>\n",
       "      <td>CLASSIC FORD NEEDS A HOME. SERIOUS BUYERS ONLY...</td>\n",
       "      <td>albuquerque</td>\n",
       "      <td>NaN</td>\n",
       "      <td>NaN</td>\n",
       "      <td>NaN</td>\n",
       "      <td>NaN</td>\n",
       "      <td>NaN</td>\n",
       "      <td>NaN</td>\n",
       "      <td>NaN</td>\n",
       "      <td>NaN</td>\n",
       "    </tr>\n",
       "    <tr>\n",
       "      <td>4</td>\n",
       "      <td>albuquerque</td>\n",
       "      <td>https://albuquerque.craigslist.org</td>\n",
       "      <td>2000</td>\n",
       "      <td>1998.0</td>\n",
       "      <td>toyota</td>\n",
       "      <td>camry</td>\n",
       "      <td>good</td>\n",
       "      <td>6 cylinders</td>\n",
       "      <td>gas</td>\n",
       "      <td>236300.0</td>\n",
       "      <td>...</td>\n",
       "      <td>Good running car. Great on gas. It has a sunro...</td>\n",
       "      <td>albuquerque</td>\n",
       "      <td>NaN</td>\n",
       "      <td>NaN</td>\n",
       "      <td>NaN</td>\n",
       "      <td>NaN</td>\n",
       "      <td>NaN</td>\n",
       "      <td>NaN</td>\n",
       "      <td>NaN</td>\n",
       "      <td>NaN</td>\n",
       "    </tr>\n",
       "  </tbody>\n",
       "</table>\n",
       "<p>5 rows × 24 columns</p>\n",
       "</div>"
      ],
      "text/plain": [
       "          city                            city_url  price    year  \\\n",
       "0  albuquerque  https://albuquerque.craigslist.org   1500  2005.0   \n",
       "1  albuquerque  https://albuquerque.craigslist.org  10000  2010.0   \n",
       "2  albuquerque  https://albuquerque.craigslist.org   2000  2005.0   \n",
       "3  albuquerque  https://albuquerque.craigslist.org   2300  1971.0   \n",
       "4  albuquerque  https://albuquerque.craigslist.org   2000  1998.0   \n",
       "\n",
       "  manufacturer     make condition    cylinders fuel  odometer  ...  \\\n",
       "0      hyundai  elantra      good  4 cylinders  gas  256000.0  ...   \n",
       "1          bmw    535xi      good  6 cylinders  gas       NaN  ...   \n",
       "2       toyota   tacoma       NaN          NaN  gas       NaN  ...   \n",
       "3         ford      NaN      fair  8 cylinders  gas       NaN  ...   \n",
       "4       toyota    camry      good  6 cylinders  gas  236300.0  ...   \n",
       "\n",
       "                                                desc cityStandard lat long  \\\n",
       "0  Selling a 2005 Hyundai Elantra 2.0 4 cylinder....  albuquerque NaN  NaN   \n",
       "1  2010 BMW 535xi\\nAll wheel drive \\n120,000\\nCle...  albuquerque NaN  NaN   \n",
       "2  Contact at amandafiorello(at)hotmail.com\\n\\n \\...  albuquerque NaN  NaN   \n",
       "3  CLASSIC FORD NEEDS A HOME. SERIOUS BUYERS ONLY...  albuquerque NaN  NaN   \n",
       "4  Good running car. Great on gas. It has a sunro...  albuquerque NaN  NaN   \n",
       "\n",
       "  county_fips county_name  state_fips  state_code  state_name weather  \n",
       "0         NaN         NaN         NaN         NaN         NaN     NaN  \n",
       "1         NaN         NaN         NaN         NaN         NaN     NaN  \n",
       "2         NaN         NaN         NaN         NaN         NaN     NaN  \n",
       "3         NaN         NaN         NaN         NaN         NaN     NaN  \n",
       "4         NaN         NaN         NaN         NaN         NaN     NaN  \n",
       "\n",
       "[5 rows x 24 columns]"
      ]
     },
     "execution_count": 21,
     "metadata": {},
     "output_type": "execute_result"
    }
   ],
   "source": [
    "inCL.head()"
   ]
  },
  {
   "cell_type": "code",
   "execution_count": 22,
   "metadata": {},
   "outputs": [
    {
     "name": "stdout",
     "output_type": "stream",
     "text": [
      "471\n"
     ]
    }
   ],
   "source": [
    "print(len(inCL['cityStandard'].unique()))"
   ]
  },
  {
   "cell_type": "code",
   "execution_count": 23,
   "metadata": {},
   "outputs": [
    {
     "name": "stdout",
     "output_type": "stream",
     "text": [
      "11267\n",
      "1\n",
      "4599.723991507431\n",
      "3503.0\n"
     ]
    }
   ],
   "source": [
    "print(inCL.groupby([inCL['cityStandard']]).price.count().max())\n",
    "print(inCL.groupby([inCL['cityStandard']]).price.count().min())\n",
    "print(inCL.groupby([inCL['cityStandard']]).price.count().mean())\n",
    "print(inCL.groupby([inCL['cityStandard']]).price.count().median())\n"
   ]
  },
  {
   "cell_type": "code",
   "execution_count": 24,
   "metadata": {},
   "outputs": [],
   "source": [
    "import seaborn as sns\n",
    "import matplotlib.pyplot as plt"
   ]
  },
  {
   "cell_type": "code",
   "execution_count": 25,
   "metadata": {
    "scrolled": true
   },
   "outputs": [
    {
     "data": {
      "image/png": "[encoded data removed]",
      "text/plain": [
       "<Figure size 432x288 with 1 Axes>"
      ]
     },
     "metadata": {
      "needs_background": "light"
     },
     "output_type": "display_data"
    }
   ],
   "source": [
    "inCL.price.hist()\n",
    "plt.yscale('log')"
   ]
  },
  {
   "cell_type": "code",
   "execution_count": 26,
   "metadata": {},
   "outputs": [],
   "source": [
    "inCL = inCL.loc[inCL['price']<50000]"
   ]
  },
  {
   "cell_type": "code",
   "execution_count": 27,
   "metadata": {},
   "outputs": [
    {
     "data": {
      "image/png": "[encoded data removed]",
      "text/plain": [
       "<Figure size 432x288 with 1 Axes>"
      ]
     },
     "metadata": {
      "needs_background": "light"
     },
     "output_type": "display_data"
    }
   ],
   "source": [
    "inCL.price.hist()\n",
    "plt.ylabel('Number of listings')\n",
    "plt.xlabel('Price (USD)')\n",
    "plt.yscale('log')"
   ]
  },
  {
   "cell_type": "code",
   "execution_count": 28,
   "metadata": {},
   "outputs": [
    {
     "name": "stdout",
     "output_type": "stream",
     "text": [
      "['hyundai' 'bmw' 'toyota' 'ford' 'buick' 'chevrolet' 'mazda' 'audi'\n",
      " 'honda' 'pontiac' 'ram' 'dodge' 'chrysler' 'lexus' 'nissan' 'volkswagen'\n",
      " 'subaru' nan 'mercedes-benz' 'jeep' 'kia' 'acura' 'saturn' 'gmc'\n",
      " 'lincoln' 'mitsubishi' 'volvo' 'cadillac' 'infiniti' 'jaguar' 'mini'\n",
      " 'rover' 'fiat' 'mercury' 'datsun' 'porche' 'harley-davidson' 'alfa-romeo'\n",
      " 'ferrari' 'aston-martin' 'land rover' 'morgan' 'hennessey' 'chev' 'chevy'\n",
      " 'mercedes' 'vw' 'infinity' 'harley' 'alfa' 'noble' 'landrover'\n",
      " 'mercedesbenz' 'aston']\n"
     ]
    }
   ],
   "source": [
    "print(inCL['manufacturer'].unique())"
   ]
  },
  {
   "cell_type": "code",
   "execution_count": 29,
   "metadata": {},
   "outputs": [],
   "source": [
    "# remove the high end stuff from the list. \n",
    "# these probably aren't very similar to honda markets\n",
    "inCL=inCL.loc[~inCL['manufacturer'].isin(['aston','aston-martin','ferrari','infiniti','jaguar','porche','alfa-romeo','infinity','alfa'])]"
   ]
  },
  {
   "cell_type": "code",
   "execution_count": 30,
   "metadata": {},
   "outputs": [
    {
     "name": "stdout",
     "output_type": "stream",
     "text": [
      "['hyundai' 'bmw' 'toyota' 'ford' 'buick' 'chevrolet' 'mazda' 'audi'\n",
      " 'honda' 'pontiac' 'ram' 'dodge' 'chrysler' 'lexus' 'nissan' 'volkswagen'\n",
      " 'subaru' nan 'mercedes-benz' 'jeep' 'kia' 'acura' 'saturn' 'gmc'\n",
      " 'lincoln' 'mitsubishi' 'volvo' 'cadillac' 'mini' 'rover' 'fiat' 'mercury'\n",
      " 'datsun' 'harley-davidson' 'land rover' 'morgan' 'hennessey' 'chev'\n",
      " 'chevy' 'mercedes' 'vw' 'harley' 'noble' 'landrover' 'mercedesbenz']\n"
     ]
    }
   ],
   "source": [
    "print(inCL['manufacturer'].unique())"
   ]
  },
  {
   "cell_type": "code",
   "execution_count": 31,
   "metadata": {},
   "outputs": [
    {
     "data": {
      "image/png": "[encoded data removed]",
      "text/plain": [
       "<Figure size 432x288 with 1 Axes>"
      ]
     },
     "metadata": {
      "needs_background": "light"
     },
     "output_type": "display_data"
    }
   ],
   "source": [
    "inCL.price.hist()\n",
    "plt.ylabel('Number of listings')\n",
    "plt.xlabel('Price (USD)')\n",
    "plt.yscale('log')"
   ]
  },
  {
   "cell_type": "code",
   "execution_count": 32,
   "metadata": {},
   "outputs": [
    {
     "name": "stdout",
     "output_type": "stream",
     "text": [
      "<class 'pandas.core.frame.DataFrame'>\n",
      "Int64Index: 2121240 entries, 0 to 2166469\n",
      "Data columns (total 24 columns):\n",
      "city            object\n",
      "city_url        object\n",
      "price           int64\n",
      "year            float64\n",
      "manufacturer    object\n",
      "make            object\n",
      "condition       object\n",
      "cylinders       object\n",
      "fuel            object\n",
      "odometer        float64\n",
      "transmission    object\n",
      "drive           object\n",
      "size            object\n",
      "type            object\n",
      "desc            object\n",
      "cityStandard    object\n",
      "lat             float64\n",
      "long            float64\n",
      "county_fips     float64\n",
      "county_name     object\n",
      "state_fips      float64\n",
      "state_code      object\n",
      "state_name      object\n",
      "weather         float64\n",
      "dtypes: float64(7), int64(1), object(16)\n",
      "memory usage: 404.6+ MB\n"
     ]
    }
   ],
   "source": [
    "inCL.info()"
   ]
  },
  {
   "cell_type": "code",
   "execution_count": 33,
   "metadata": {},
   "outputs": [],
   "source": [
    "# which of these would I want to input into a model\n",
    "# cityStandard (target), price, year, manufacturer, make, condition, odometer\n",
    "# others could be useful but could duplicate info and/or only be available in one of the input tables\n",
    "# so.... remove everything else"
   ]
  },
  {
   "cell_type": "code",
   "execution_count": 34,
   "metadata": {
    "scrolled": false
   },
   "outputs": [
    {
     "name": "stdout",
     "output_type": "stream",
     "text": [
      "<class 'pandas.core.frame.DataFrame'>\n",
      "Int64Index: 2121240 entries, 0 to 2166469\n",
      "Data columns (total 7 columns):\n",
      "cityStandard    object\n",
      "price           int64\n",
      "year            float64\n",
      "manufacturer    object\n",
      "make            object\n",
      "condition       object\n",
      "odometer        float64\n",
      "dtypes: float64(2), int64(1), object(4)\n",
      "memory usage: 129.5+ MB\n"
     ]
    }
   ],
   "source": [
    "listings=inCL.copy()\n",
    "listings=listings.filter(['cityStandard','price','year','manufacturer','make','condition','odometer'])\n",
    "listings.info()"
   ]
  },
  {
   "cell_type": "code",
   "execution_count": 35,
   "metadata": {},
   "outputs": [
    {
     "data": {
      "text/html": [
       "<div>\n",
       "<style scoped>\n",
       "    .dataframe tbody tr th:only-of-type {\n",
       "        vertical-align: middle;\n",
       "    }\n",
       "\n",
       "    .dataframe tbody tr th {\n",
       "        vertical-align: top;\n",
       "    }\n",
       "\n",
       "    .dataframe thead th {\n",
       "        text-align: right;\n",
       "    }\n",
       "</style>\n",
       "<table border=\"1\" class=\"dataframe\">\n",
       "  <thead>\n",
       "    <tr style=\"text-align: right;\">\n",
       "      <th></th>\n",
       "      <th>cityStandard</th>\n",
       "      <th>price</th>\n",
       "      <th>year</th>\n",
       "      <th>manufacturer</th>\n",
       "      <th>make</th>\n",
       "      <th>condition</th>\n",
       "      <th>odometer</th>\n",
       "    </tr>\n",
       "  </thead>\n",
       "  <tbody>\n",
       "    <tr>\n",
       "      <td>0</td>\n",
       "      <td>albuquerque</td>\n",
       "      <td>1500</td>\n",
       "      <td>2005.0</td>\n",
       "      <td>hyundai</td>\n",
       "      <td>elantra</td>\n",
       "      <td>good</td>\n",
       "      <td>256000.0</td>\n",
       "    </tr>\n",
       "    <tr>\n",
       "      <td>1</td>\n",
       "      <td>albuquerque</td>\n",
       "      <td>10000</td>\n",
       "      <td>2010.0</td>\n",
       "      <td>bmw</td>\n",
       "      <td>535xi</td>\n",
       "      <td>good</td>\n",
       "      <td>NaN</td>\n",
       "    </tr>\n",
       "    <tr>\n",
       "      <td>2</td>\n",
       "      <td>albuquerque</td>\n",
       "      <td>2000</td>\n",
       "      <td>2005.0</td>\n",
       "      <td>toyota</td>\n",
       "      <td>tacoma</td>\n",
       "      <td>NaN</td>\n",
       "      <td>NaN</td>\n",
       "    </tr>\n",
       "    <tr>\n",
       "      <td>3</td>\n",
       "      <td>albuquerque</td>\n",
       "      <td>2300</td>\n",
       "      <td>1971.0</td>\n",
       "      <td>ford</td>\n",
       "      <td>NaN</td>\n",
       "      <td>fair</td>\n",
       "      <td>NaN</td>\n",
       "    </tr>\n",
       "    <tr>\n",
       "      <td>4</td>\n",
       "      <td>albuquerque</td>\n",
       "      <td>2000</td>\n",
       "      <td>1998.0</td>\n",
       "      <td>toyota</td>\n",
       "      <td>camry</td>\n",
       "      <td>good</td>\n",
       "      <td>236300.0</td>\n",
       "    </tr>\n",
       "  </tbody>\n",
       "</table>\n",
       "</div>"
      ],
      "text/plain": [
       "  cityStandard  price    year manufacturer     make condition  odometer\n",
       "0  albuquerque   1500  2005.0      hyundai  elantra      good  256000.0\n",
       "1  albuquerque  10000  2010.0          bmw    535xi      good       NaN\n",
       "2  albuquerque   2000  2005.0       toyota   tacoma       NaN       NaN\n",
       "3  albuquerque   2300  1971.0         ford      NaN      fair       NaN\n",
       "4  albuquerque   2000  1998.0       toyota    camry      good  236300.0"
      ]
     },
     "execution_count": 35,
     "metadata": {},
     "output_type": "execute_result"
    }
   ],
   "source": [
    "listings.head()"
   ]
  },
  {
   "cell_type": "code",
   "execution_count": 36,
   "metadata": {},
   "outputs": [],
   "source": [
    "listings.dropna(inplace=True)\n",
    "listings.reset_index(drop=True, inplace=True)"
   ]
  },
  {
   "cell_type": "code",
   "execution_count": 37,
   "metadata": {},
   "outputs": [
    {
     "name": "stdout",
     "output_type": "stream",
     "text": [
      "<class 'pandas.core.frame.DataFrame'>\n",
      "RangeIndex: 892130 entries, 0 to 892129\n",
      "Data columns (total 7 columns):\n",
      "cityStandard    892130 non-null object\n",
      "price           892130 non-null int64\n",
      "year            892130 non-null float64\n",
      "manufacturer    892130 non-null object\n",
      "make            892130 non-null object\n",
      "condition       892130 non-null object\n",
      "odometer        892130 non-null float64\n",
      "dtypes: float64(2), int64(1), object(4)\n",
      "memory usage: 47.6+ MB\n"
     ]
    }
   ],
   "source": [
    "listings.info()"
   ]
  },
  {
   "cell_type": "code",
   "execution_count": 38,
   "metadata": {},
   "outputs": [
    {
     "data": {
      "text/html": [
       "<div>\n",
       "<style scoped>\n",
       "    .dataframe tbody tr th:only-of-type {\n",
       "        vertical-align: middle;\n",
       "    }\n",
       "\n",
       "    .dataframe tbody tr th {\n",
       "        vertical-align: top;\n",
       "    }\n",
       "\n",
       "    .dataframe thead th {\n",
       "        text-align: right;\n",
       "    }\n",
       "</style>\n",
       "<table border=\"1\" class=\"dataframe\">\n",
       "  <thead>\n",
       "    <tr style=\"text-align: right;\">\n",
       "      <th></th>\n",
       "      <th>cityStandard</th>\n",
       "      <th>price</th>\n",
       "      <th>year</th>\n",
       "      <th>manufacturer</th>\n",
       "      <th>make</th>\n",
       "      <th>condition</th>\n",
       "      <th>odometer</th>\n",
       "    </tr>\n",
       "  </thead>\n",
       "  <tbody>\n",
       "    <tr>\n",
       "      <td>0</td>\n",
       "      <td>albuquerque</td>\n",
       "      <td>1500</td>\n",
       "      <td>2005.0</td>\n",
       "      <td>hyundai</td>\n",
       "      <td>elantra</td>\n",
       "      <td>good</td>\n",
       "      <td>256000.0</td>\n",
       "    </tr>\n",
       "    <tr>\n",
       "      <td>1</td>\n",
       "      <td>albuquerque</td>\n",
       "      <td>2000</td>\n",
       "      <td>1998.0</td>\n",
       "      <td>toyota</td>\n",
       "      <td>camry</td>\n",
       "      <td>good</td>\n",
       "      <td>236300.0</td>\n",
       "    </tr>\n",
       "    <tr>\n",
       "      <td>2</td>\n",
       "      <td>albuquerque</td>\n",
       "      <td>15500</td>\n",
       "      <td>1965.0</td>\n",
       "      <td>ford</td>\n",
       "      <td>mustang</td>\n",
       "      <td>excellent</td>\n",
       "      <td>4800.0</td>\n",
       "    </tr>\n",
       "    <tr>\n",
       "      <td>3</td>\n",
       "      <td>albuquerque</td>\n",
       "      <td>9300</td>\n",
       "      <td>2014.0</td>\n",
       "      <td>buick</td>\n",
       "      <td>verano</td>\n",
       "      <td>like new</td>\n",
       "      <td>50000.0</td>\n",
       "    </tr>\n",
       "    <tr>\n",
       "      <td>4</td>\n",
       "      <td>albuquerque</td>\n",
       "      <td>7500</td>\n",
       "      <td>2013.0</td>\n",
       "      <td>chevrolet</td>\n",
       "      <td>malibãº</td>\n",
       "      <td>excellent</td>\n",
       "      <td>73000.0</td>\n",
       "    </tr>\n",
       "  </tbody>\n",
       "</table>\n",
       "</div>"
      ],
      "text/plain": [
       "  cityStandard  price    year manufacturer     make  condition  odometer\n",
       "0  albuquerque   1500  2005.0      hyundai  elantra       good  256000.0\n",
       "1  albuquerque   2000  1998.0       toyota    camry       good  236300.0\n",
       "2  albuquerque  15500  1965.0         ford  mustang  excellent    4800.0\n",
       "3  albuquerque   9300  2014.0        buick   verano   like new   50000.0\n",
       "4  albuquerque   7500  2013.0    chevrolet  malibãº  excellent   73000.0"
      ]
     },
     "execution_count": 38,
     "metadata": {},
     "output_type": "execute_result"
    }
   ],
   "source": [
    "listings.head()"
   ]
  },
  {
   "cell_type": "code",
   "execution_count": 39,
   "metadata": {},
   "outputs": [],
   "source": [
    "# now do some sort of clustering\n",
    "# see which regions are close to omaha"
   ]
  },
  {
   "cell_type": "code",
   "execution_count": 40,
   "metadata": {},
   "outputs": [
    {
     "data": {
      "image/png": "[encoded data removed]",
      "text/plain": [
       "<Figure size 432x288 with 1 Axes>"
      ]
     },
     "metadata": {
      "needs_background": "light"
     },
     "output_type": "display_data"
    }
   ],
   "source": [
    "listings.price.hist()\n",
    "plt.ylabel('Number of listings')\n",
    "plt.xlabel('Price (USD)')\n",
    "plt.yscale('log')"
   ]
  },
  {
   "cell_type": "code",
   "execution_count": 41,
   "metadata": {},
   "outputs": [
    {
     "data": {
      "image/png": "[encoded data removed]",
      "text/plain": [
       "<Figure size 432x288 with 1 Axes>"
      ]
     },
     "metadata": {
      "needs_background": "light"
     },
     "output_type": "display_data"
    }
   ],
   "source": [
    "listings.odometer.hist()\n",
    "plt.ylabel('Number of listings')\n",
    "plt.xlabel('Odometer miles')\n",
    "plt.yscale('log')"
   ]
  },
  {
   "cell_type": "code",
   "execution_count": 42,
   "metadata": {},
   "outputs": [],
   "source": [
    "listings = listings.loc[listings['odometer']<500000]"
   ]
  },
  {
   "cell_type": "code",
   "execution_count": 43,
   "metadata": {},
   "outputs": [
    {
     "data": {
      "image/png": "[encoded data removed]",
      "text/plain": [
       "<Figure size 432x288 with 1 Axes>"
      ]
     },
     "metadata": {
      "needs_background": "light"
     },
     "output_type": "display_data"
    }
   ],
   "source": [
    "listings.odometer.hist()\n",
    "plt.ylabel('Number of listings')\n",
    "plt.xlabel('Odometer miles')\n",
    "plt.yscale('log')"
   ]
  },
  {
   "cell_type": "code",
   "execution_count": 44,
   "metadata": {},
   "outputs": [
    {
     "data": {
      "image/png": "[encoded data removed]",
      "text/plain": [
       "<Figure size 432x288 with 1 Axes>"
      ]
     },
     "metadata": {
      "needs_background": "light"
     },
     "output_type": "display_data"
    }
   ],
   "source": [
    "listings.year.hist()\n",
    "plt.ylabel('Number of listings')\n",
    "plt.xlabel('Year')\n",
    "plt.yscale('log')"
   ]
  },
  {
   "cell_type": "code",
   "execution_count": 45,
   "metadata": {},
   "outputs": [
    {
     "data": {
      "text/plain": [
       "<seaborn.axisgrid.FacetGrid at 0x1421bbed0>"
      ]
     },
     "execution_count": 45,
     "metadata": {},
     "output_type": "execute_result"
    },
    {
     "data": {
      "image/png": "[encoded data removed]",
      "text/plain": [
       "<Figure size 360x360 with 1 Axes>"
      ]
     },
     "metadata": {
      "needs_background": "light"
     },
     "output_type": "display_data"
    }
   ],
   "source": [
    "sns.relplot(x='year',y='price',data=listings,kind='line')"
   ]
  },
  {
   "cell_type": "code",
   "execution_count": 47,
   "metadata": {},
   "outputs": [],
   "source": [
    "import numpy as np"
   ]
  },
  {
   "cell_type": "code",
   "execution_count": 62,
   "metadata": {},
   "outputs": [],
   "source": [
    "from kmodes.kmodes import KModes"
   ]
  },
  {
   "cell_type": "code",
   "execution_count": 56,
   "metadata": {},
   "outputs": [
    {
     "name": "stdout",
     "output_type": "stream",
     "text": [
      "Init: initializing centroids\n",
      "Init: initializing clusters\n",
      "Starting iterations...\n",
      "Run 1, iteration: 1/100, moves: 54812, cost: 4265040.0\n",
      "Run 1, iteration: 2/100, moves: 1498, cost: 4265040.0\n",
      "Init: initializing centroids\n",
      "Init: initializing clusters\n",
      "Starting iterations...\n",
      "Run 2, iteration: 1/100, moves: 42615, cost: 4264919.0\n",
      "Run 2, iteration: 2/100, moves: 0, cost: 4264919.0\n",
      "Init: initializing centroids\n",
      "Init: initializing clusters\n",
      "Starting iterations...\n",
      "Run 3, iteration: 1/100, moves: 57019, cost: 4233181.0\n",
      "Run 3, iteration: 2/100, moves: 0, cost: 4233181.0\n",
      "Init: initializing centroids\n",
      "Init: initializing clusters\n",
      "Starting iterations...\n",
      "Run 4, iteration: 1/100, moves: 94464, cost: 4267041.0\n",
      "Run 4, iteration: 2/100, moves: 0, cost: 4267041.0\n",
      "Init: initializing centroids\n",
      "Init: initializing clusters\n",
      "Starting iterations...\n",
      "Run 5, iteration: 1/100, moves: 63543, cost: 4514358.0\n",
      "Run 5, iteration: 2/100, moves: 0, cost: 4514358.0\n",
      "Best run was number 3\n"
     ]
    }
   ],
   "source": [
    "# define the k-modes model\n",
    "km = KModes(n_clusters=3, init='Huang', n_init=5, verbose=1)\n",
    "# fit the clusters to the skills dataframe\n",
    "clusters = km.fit_predict(listings.copy().drop(columns=['cityStandard']))\n",
    "# get an array of cluster modes\n",
    "kmodes = km.cluster_centroids_\n",
    "shape = kmodes.shape\n"
   ]
  },
  {
   "cell_type": "code",
   "execution_count": 61,
   "metadata": {},
   "outputs": [
    {
     "name": "stdout",
     "output_type": "stream",
     "text": [
      "\n",
      "cluster 0: \n",
      "['4000' '2003.0' 'ford' 'f-150' 'like new' '200000.0']\n",
      "price\n",
      "year\n",
      "manufacturer\n",
      "make\n",
      "condition\n",
      "odometer\n",
      "\n",
      "cluster 1: \n",
      "['0' '2015.0' 'ford' 'f-150' 'excellent' '150000.0']\n",
      "price\n",
      "year\n",
      "manufacturer\n",
      "make\n",
      "condition\n",
      "odometer\n",
      "\n",
      "cluster 2: \n",
      "['2500' '2007.0' 'chevrolet' '1500' 'good' '150000.0']\n",
      "price\n",
      "year\n",
      "manufacturer\n",
      "make\n",
      "condition\n",
      "odometer\n"
     ]
    }
   ],
   "source": [
    "# For each cluster mode (a vector of \"1\" and \"0\")\n",
    "# find and print the column headings where \"1\" appears.\n",
    "# If no \"1\" appears, assign to \"no-skills\" cluster.\n",
    "for i in range(shape[0]):\n",
    "    print(\"\\ncluster \" + str(i) + \": \")\n",
    "    cent = kmodes[i,:]\n",
    "    print (cent)\n",
    "    for j in listings.copy().drop(columns=['cityStandard']).columns[np.nonzero(cent)]:\n",
    "        print(j)"
   ]
  },
  {
   "cell_type": "code",
   "execution_count": null,
   "metadata": {},
   "outputs": [],
   "source": []
  }
 ],
 "metadata": {
  "kernelspec": {
   "display_name": "Python 3",
   "language": "python",
   "name": "python3"
  },
  "language_info": {
   "codemirror_mode": {
    "name": "ipython",
    "version": 3
   },
   "file_extension": ".py",
   "mimetype": "text/x-python",
   "name": "python",
   "nbconvert_exporter": "python",
   "pygments_lexer": "ipython3",
   "version": "3.7.4"
  }
 },
 "nbformat": 4,
 "nbformat_minor": 2
}
