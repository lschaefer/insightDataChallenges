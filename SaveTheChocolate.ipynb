{
 "cells": [
  {
   "cell_type": "markdown",
   "metadata": {},
   "source": [
    "# Save the Chocolate\n",
    "## An investigation of methods to increase cacao yields\n",
    "\n",
    "I would like to see if the tested methods to promote natural pollinator activity resulted in an increase in cacao fruits.\n",
    "\n",
    "Data courtesy of Emily Kearney."
   ]
  },
  {
   "cell_type": "code",
   "execution_count": 1,
   "metadata": {},
   "outputs": [],
   "source": [
    "import pandas as pd\n",
    "import numpy as np\n",
    "import matplotlib.pyplot as plt\n",
    "import seaborn as sns\n",
    "import itertools"
   ]
  },
  {
   "cell_type": "code",
   "execution_count": 2,
   "metadata": {},
   "outputs": [],
   "source": [
    "# load the data\n",
    "collections = pd.read_csv('CollectingEvents.csv')\n",
    "flowers = pd.read_csv('FlowerMarking.csv')\n",
    "specimens = pd.read_csv('Specimen_IDs.csv')\n",
    "treatmentDates = pd.read_csv('TreatmentDates.csv')\n",
    "trees = pd.read_csv('TreeData.csv')"
   ]
  },
  {
   "cell_type": "code",
   "execution_count": 3,
   "metadata": {},
   "outputs": [],
   "source": [
    "# I will be making lots of histograms\n",
    "def plot1DHist(distribution,xlabel='',ylabel='',bins=10):\n",
    "    distribution.hist(bins=bins)\n",
    "    plt.xlabel(xlabel)\n",
    "    plt.ylabel(ylabel)"
   ]
  },
  {
   "cell_type": "code",
   "execution_count": 4,
   "metadata": {},
   "outputs": [],
   "source": [
    "# I will also be plotting some specific multi-distribution histograms\n",
    "def plotMulti1DHist(df,option=''):\n",
    "    tmp=[]\n",
    "    for treatment in ['LB','LN','NN','NB']:\n",
    "        tmp.append(df.loc[df.Treatment==treatment]['fruitCount'+option].hist(bins=5,label=treatment,histtype='step',linewidth=2))\n",
    "    plt.legend()\n",
    "    xlabel=''\n",
    "    if option=='O':\n",
    "        xlabel+='Open Pollinated '\n",
    "    elif option=='H':\n",
    "        xlabel+='Hand Pollinated '\n",
    "    xlabel+='Fruits Per Tree'\n",
    "    plt.xlabel(xlabel)\n",
    "    plt.ylabel('Number of Trees') "
   ]
  },
  {
   "cell_type": "markdown",
   "metadata": {},
   "source": [
    "## Trees EDA"
   ]
  },
  {
   "cell_type": "code",
   "execution_count": 5,
   "metadata": {
    "scrolled": true
   },
   "outputs": [
    {
     "name": "stdout",
     "output_type": "stream",
     "text": [
      "<class 'pandas.core.frame.DataFrame'>\n",
      "RangeIndex: 120 entries, 0 to 119\n",
      "Data columns (total 9 columns):\n",
      "Chakra        120 non-null object\n",
      "Tree          120 non-null int64\n",
      "Treatment     120 non-null object\n",
      "Type          119 non-null object\n",
      "Trunk Cir.    120 non-null int64\n",
      "Canopy HT     117 non-null float64\n",
      "Water         120 non-null object\n",
      "Shade         120 non-null int64\n",
      "Cover         120 non-null int64\n",
      "dtypes: float64(1), int64(4), object(4)\n",
      "memory usage: 8.6+ KB\n"
     ]
    }
   ],
   "source": [
    "trees.info()"
   ]
  },
  {
   "cell_type": "markdown",
   "metadata": {},
   "source": [
    "### There are a few null values to consider..."
   ]
  },
  {
   "cell_type": "markdown",
   "metadata": {},
   "source": [
    "First, the one tree with missing type."
   ]
  },
  {
   "cell_type": "code",
   "execution_count": 6,
   "metadata": {
    "scrolled": true
   },
   "outputs": [
    {
     "data": {
      "text/plain": [
       "<matplotlib.axes._subplots.AxesSubplot at 0xa1cc9b750>"
      ]
     },
     "execution_count": 6,
     "metadata": {},
     "output_type": "execute_result"
    },
    {
     "data": {
      "image/png": "[encoded data removed]",
      "text/plain": [
       "<Figure size 432x288 with 1 Axes>"
      ]
     },
     "metadata": {
      "needs_background": "light"
     },
     "output_type": "display_data"
    }
   ],
   "source": [
    "trees.groupby([trees.Type]).Tree.count().plot(kind='bar')"
   ]
  },
  {
   "cell_type": "markdown",
   "metadata": {},
   "source": [
    "It is quite arbitrary to assign it to the majority class ... leave it as \"unknown\" I guess."
   ]
  },
  {
   "cell_type": "code",
   "execution_count": 7,
   "metadata": {},
   "outputs": [],
   "source": [
    "trees.fillna(value={'Type':'-'},inplace=True)"
   ]
  },
  {
   "cell_type": "code",
   "execution_count": 8,
   "metadata": {
    "scrolled": true
   },
   "outputs": [
    {
     "data": {
      "text/plain": [
       "array(['G', 'R', '-'], dtype=object)"
      ]
     },
     "execution_count": 8,
     "metadata": {},
     "output_type": "execute_result"
    }
   ],
   "source": [
    "trees.Type.unique()"
   ]
  },
  {
   "cell_type": "markdown",
   "metadata": {},
   "source": [
    "Now for trees with missing canopy height entries, fill it with the average"
   ]
  },
  {
   "cell_type": "code",
   "execution_count": 9,
   "metadata": {
    "scrolled": true
   },
   "outputs": [
    {
     "data": {
      "image/png": "[encoded data removed]",
      "text/plain": [
       "<Figure size 432x288 with 1 Axes>"
      ]
     },
     "metadata": {
      "needs_background": "light"
     },
     "output_type": "display_data"
    }
   ],
   "source": [
    "plot1DHist(trees['Canopy HT'],'Canopy height [m]','Number of trees')"
   ]
  },
  {
   "cell_type": "markdown",
   "metadata": {},
   "source": [
    "Close to a normal distribution so this is totally valid"
   ]
  },
  {
   "cell_type": "code",
   "execution_count": 10,
   "metadata": {},
   "outputs": [],
   "source": [
    "trees.fillna(value={'Canopy HT':trees['Canopy HT'].mean()},inplace=True)"
   ]
  },
  {
   "cell_type": "markdown",
   "metadata": {},
   "source": [
    "### Just get a little more familiar with the trees data..."
   ]
  },
  {
   "cell_type": "code",
   "execution_count": 11,
   "metadata": {},
   "outputs": [
    {
     "data": {
      "text/html": [
       "<div>\n",
       "<style scoped>\n",
       "    .dataframe tbody tr th:only-of-type {\n",
       "        vertical-align: middle;\n",
       "    }\n",
       "\n",
       "    .dataframe tbody tr th {\n",
       "        vertical-align: top;\n",
       "    }\n",
       "\n",
       "    .dataframe thead th {\n",
       "        text-align: right;\n",
       "    }\n",
       "</style>\n",
       "<table border=\"1\" class=\"dataframe\">\n",
       "  <thead>\n",
       "    <tr style=\"text-align: right;\">\n",
       "      <th></th>\n",
       "      <th>Chakra</th>\n",
       "      <th>Tree</th>\n",
       "      <th>Treatment</th>\n",
       "      <th>Type</th>\n",
       "      <th>Trunk Cir.</th>\n",
       "      <th>Canopy HT</th>\n",
       "      <th>Water</th>\n",
       "      <th>Shade</th>\n",
       "      <th>Cover</th>\n",
       "    </tr>\n",
       "  </thead>\n",
       "  <tbody>\n",
       "    <tr>\n",
       "      <td>0</td>\n",
       "      <td>CC1</td>\n",
       "      <td>1</td>\n",
       "      <td>LB</td>\n",
       "      <td>G</td>\n",
       "      <td>47</td>\n",
       "      <td>380.0</td>\n",
       "      <td>N</td>\n",
       "      <td>10</td>\n",
       "      <td>25</td>\n",
       "    </tr>\n",
       "    <tr>\n",
       "      <td>1</td>\n",
       "      <td>CC1</td>\n",
       "      <td>2</td>\n",
       "      <td>LB</td>\n",
       "      <td>R</td>\n",
       "      <td>82</td>\n",
       "      <td>500.0</td>\n",
       "      <td>N</td>\n",
       "      <td>0</td>\n",
       "      <td>15</td>\n",
       "    </tr>\n",
       "    <tr>\n",
       "      <td>2</td>\n",
       "      <td>CC1</td>\n",
       "      <td>3</td>\n",
       "      <td>LN</td>\n",
       "      <td>R</td>\n",
       "      <td>37</td>\n",
       "      <td>380.0</td>\n",
       "      <td>N</td>\n",
       "      <td>0</td>\n",
       "      <td>0</td>\n",
       "    </tr>\n",
       "    <tr>\n",
       "      <td>3</td>\n",
       "      <td>CC1</td>\n",
       "      <td>4</td>\n",
       "      <td>LN</td>\n",
       "      <td>G</td>\n",
       "      <td>106</td>\n",
       "      <td>260.0</td>\n",
       "      <td>N</td>\n",
       "      <td>0</td>\n",
       "      <td>5</td>\n",
       "    </tr>\n",
       "    <tr>\n",
       "      <td>4</td>\n",
       "      <td>CC1</td>\n",
       "      <td>5</td>\n",
       "      <td>NB</td>\n",
       "      <td>G</td>\n",
       "      <td>44</td>\n",
       "      <td>345.0</td>\n",
       "      <td>N</td>\n",
       "      <td>5</td>\n",
       "      <td>10</td>\n",
       "    </tr>\n",
       "  </tbody>\n",
       "</table>\n",
       "</div>"
      ],
      "text/plain": [
       "  Chakra  Tree Treatment Type  Trunk Cir.  Canopy HT Water  Shade  Cover\n",
       "0    CC1     1        LB    G          47      380.0     N     10     25\n",
       "1    CC1     2        LB    R          82      500.0     N      0     15\n",
       "2    CC1     3        LN    R          37      380.0     N      0      0\n",
       "3    CC1     4        LN    G         106      260.0     N      0      5\n",
       "4    CC1     5        NB    G          44      345.0     N      5     10"
      ]
     },
     "execution_count": 11,
     "metadata": {},
     "output_type": "execute_result"
    }
   ],
   "source": [
    "trees.head()"
   ]
  },
  {
   "cell_type": "code",
   "execution_count": 12,
   "metadata": {
    "scrolled": true
   },
   "outputs": [
    {
     "data": {
      "text/html": [
       "<div>\n",
       "<style scoped>\n",
       "    .dataframe tbody tr th:only-of-type {\n",
       "        vertical-align: middle;\n",
       "    }\n",
       "\n",
       "    .dataframe tbody tr th {\n",
       "        vertical-align: top;\n",
       "    }\n",
       "\n",
       "    .dataframe thead th {\n",
       "        text-align: right;\n",
       "    }\n",
       "</style>\n",
       "<table border=\"1\" class=\"dataframe\">\n",
       "  <thead>\n",
       "    <tr style=\"text-align: right;\">\n",
       "      <th></th>\n",
       "      <th>Chakra</th>\n",
       "      <th>Tree</th>\n",
       "      <th>Treatment</th>\n",
       "      <th>Type</th>\n",
       "      <th>Trunk Cir.</th>\n",
       "      <th>Canopy HT</th>\n",
       "      <th>Water</th>\n",
       "      <th>Shade</th>\n",
       "      <th>Cover</th>\n",
       "    </tr>\n",
       "  </thead>\n",
       "  <tbody>\n",
       "    <tr>\n",
       "      <td>21</td>\n",
       "      <td>CC2</td>\n",
       "      <td>1</td>\n",
       "      <td>LB</td>\n",
       "      <td>G</td>\n",
       "      <td>28</td>\n",
       "      <td>310.0</td>\n",
       "      <td>N</td>\n",
       "      <td>15</td>\n",
       "      <td>15</td>\n",
       "    </tr>\n",
       "    <tr>\n",
       "      <td>22</td>\n",
       "      <td>CC2</td>\n",
       "      <td>2</td>\n",
       "      <td>LB</td>\n",
       "      <td>G</td>\n",
       "      <td>30</td>\n",
       "      <td>205.0</td>\n",
       "      <td>N</td>\n",
       "      <td>5</td>\n",
       "      <td>25</td>\n",
       "    </tr>\n",
       "    <tr>\n",
       "      <td>23</td>\n",
       "      <td>CC2</td>\n",
       "      <td>3</td>\n",
       "      <td>LN</td>\n",
       "      <td>R</td>\n",
       "      <td>40</td>\n",
       "      <td>185.0</td>\n",
       "      <td>N</td>\n",
       "      <td>30</td>\n",
       "      <td>35</td>\n",
       "    </tr>\n",
       "    <tr>\n",
       "      <td>24</td>\n",
       "      <td>CC2</td>\n",
       "      <td>4</td>\n",
       "      <td>LN</td>\n",
       "      <td>G</td>\n",
       "      <td>32</td>\n",
       "      <td>115.0</td>\n",
       "      <td>N</td>\n",
       "      <td>50</td>\n",
       "      <td>25</td>\n",
       "    </tr>\n",
       "    <tr>\n",
       "      <td>25</td>\n",
       "      <td>CC2</td>\n",
       "      <td>5</td>\n",
       "      <td>NB</td>\n",
       "      <td>G</td>\n",
       "      <td>26</td>\n",
       "      <td>220.0</td>\n",
       "      <td>N</td>\n",
       "      <td>80</td>\n",
       "      <td>80</td>\n",
       "    </tr>\n",
       "  </tbody>\n",
       "</table>\n",
       "</div>"
      ],
      "text/plain": [
       "   Chakra  Tree Treatment Type  Trunk Cir.  Canopy HT Water  Shade  Cover\n",
       "21    CC2     1        LB    G          28      310.0     N     15     15\n",
       "22    CC2     2        LB    G          30      205.0     N      5     25\n",
       "23    CC2     3        LN    R          40      185.0     N     30     35\n",
       "24    CC2     4        LN    G          32      115.0     N     50     25\n",
       "25    CC2     5        NB    G          26      220.0     N     80     80"
      ]
     },
     "execution_count": 12,
     "metadata": {},
     "output_type": "execute_result"
    }
   ],
   "source": [
    "trees.loc[trees.Chakra=='CC2'].head()"
   ]
  },
  {
   "cell_type": "markdown",
   "metadata": {},
   "source": [
    "Okay so tree IDs are not unique when integrated over all Chakras. \n",
    "\n",
    "#### Feature engineer\n",
    "a unique id to incorporate field and tree IDs."
   ]
  },
  {
   "cell_type": "code",
   "execution_count": 13,
   "metadata": {},
   "outputs": [],
   "source": [
    "trees['ChakraTree']=trees['Chakra'].str.cat(trees['Tree'].astype(str))"
   ]
  },
  {
   "cell_type": "code",
   "execution_count": 14,
   "metadata": {
    "scrolled": true
   },
   "outputs": [
    {
     "data": {
      "text/plain": [
       "array(['CC1', 'CC2', 'RB1', 'RB2', 'SJ1', 'SJ2'], dtype=object)"
      ]
     },
     "execution_count": 14,
     "metadata": {},
     "output_type": "execute_result"
    }
   ],
   "source": [
    "trees['Chakra'].unique()"
   ]
  },
  {
   "cell_type": "markdown",
   "metadata": {},
   "source": [
    "### Keep exploring the tree data"
   ]
  },
  {
   "cell_type": "code",
   "execution_count": 15,
   "metadata": {
    "scrolled": true
   },
   "outputs": [
    {
     "data": {
      "text/plain": [
       "<matplotlib.axes._subplots.AxesSubplot at 0x1a1e64d810>"
      ]
     },
     "execution_count": 15,
     "metadata": {},
     "output_type": "execute_result"
    },
    {
     "data": {
      "image/png": "[encoded data removed]",
      "text/plain": [
       "<Figure size 432x288 with 1 Axes>"
      ]
     },
     "metadata": {
      "needs_background": "light"
     },
     "output_type": "display_data"
    }
   ],
   "source": [
    "trees.groupby([trees.Treatment]).Tree.count().plot(kind='bar')"
   ]
  },
  {
   "cell_type": "markdown",
   "metadata": {},
   "source": [
    "Experts say 'CW' treatments can be ignored."
   ]
  },
  {
   "cell_type": "code",
   "execution_count": 16,
   "metadata": {},
   "outputs": [],
   "source": [
    "trees=trees[trees.Treatment != 'CW']"
   ]
  },
  {
   "cell_type": "code",
   "execution_count": 17,
   "metadata": {},
   "outputs": [
    {
     "data": {
      "text/plain": [
       "<matplotlib.axes._subplots.AxesSubplot at 0x1a1e69fbd0>"
      ]
     },
     "execution_count": 17,
     "metadata": {},
     "output_type": "execute_result"
    },
    {
     "data": {
      "image/png": "[encoded data removed]",
      "text/plain": [
       "<Figure size 432x288 with 1 Axes>"
      ]
     },
     "metadata": {
      "needs_background": "light"
     },
     "output_type": "display_data"
    }
   ],
   "source": [
    "trees.groupby([trees.Treatment]).Tree.count().plot(kind='bar')"
   ]
  },
  {
   "cell_type": "code",
   "execution_count": 18,
   "metadata": {
    "scrolled": true
   },
   "outputs": [
    {
     "data": {
      "text/plain": [
       "<matplotlib.axes._subplots.AxesSubplot at 0x1a1e624050>"
      ]
     },
     "execution_count": 18,
     "metadata": {},
     "output_type": "execute_result"
    },
    {
     "data": {
      "image/png": "[encoded data removed]",
      "text/plain": [
       "<Figure size 432x288 with 1 Axes>"
      ]
     },
     "metadata": {
      "needs_background": "light"
     },
     "output_type": "display_data"
    }
   ],
   "source": [
    "trees.groupby([trees.Treatment]).Tree.count().plot(kind='bar')"
   ]
  },
  {
   "cell_type": "code",
   "execution_count": 19,
   "metadata": {
    "scrolled": false
   },
   "outputs": [
    {
     "data": {
      "text/plain": [
       "<matplotlib.axes._subplots.AxesSubplot at 0x1a1e850490>"
      ]
     },
     "execution_count": 19,
     "metadata": {},
     "output_type": "execute_result"
    },
    {
     "data": {
      "image/png": "[encoded data removed]",
      "text/plain": [
       "<Figure size 432x288 with 1 Axes>"
      ]
     },
     "metadata": {
      "needs_background": "light"
     },
     "output_type": "display_data"
    }
   ],
   "source": [
    "trees.groupby([trees.Water]).Tree.count().plot(kind='bar')"
   ]
  },
  {
   "cell_type": "code",
   "execution_count": 20,
   "metadata": {},
   "outputs": [
    {
     "data": {
      "text/plain": [
       "<matplotlib.axes._subplots.AxesSubplot at 0x1a1e926d90>"
      ]
     },
     "execution_count": 20,
     "metadata": {},
     "output_type": "execute_result"
    },
    {
     "data": {
      "image/png": "[encoded data removed]",
      "text/plain": [
       "<Figure size 432x288 with 1 Axes>"
      ]
     },
     "metadata": {
      "needs_background": "light"
     },
     "output_type": "display_data"
    }
   ],
   "source": [
    "# check the breakdown by treatment type\n",
    "trees.groupby([trees.Water,trees.Treatment]).Tree.count().unstack().plot(kind='bar',stacked=True)"
   ]
  },
  {
   "cell_type": "code",
   "execution_count": 21,
   "metadata": {},
   "outputs": [
    {
     "data": {
      "text/plain": [
       "(0.0, 10)"
      ]
     },
     "execution_count": 21,
     "metadata": {},
     "output_type": "execute_result"
    },
    {
     "data": {
      "image/png": "[encoded data removed]",
      "text/plain": [
       "<Figure size 432x288 with 1 Axes>"
      ]
     },
     "metadata": {
      "needs_background": "light"
     },
     "output_type": "display_data"
    }
   ],
   "source": [
    "# zoom in\n",
    "trees.groupby([trees.Water,trees.Treatment]).Tree.count().unstack().plot(kind='bar',stacked=True)\n",
    "plt.ylim(top=10)"
   ]
  },
  {
   "cell_type": "code",
   "execution_count": 22,
   "metadata": {},
   "outputs": [
    {
     "data": {
      "text/plain": [
       "<matplotlib.axes._subplots.AxesSubplot at 0x1a1eb0c510>"
      ]
     },
     "execution_count": 22,
     "metadata": {},
     "output_type": "execute_result"
    },
    {
     "data": {
      "image/png": "[encoded data removed]",
      "text/plain": [
       "<Figure size 432x288 with 1 Axes>"
      ]
     },
     "metadata": {
      "needs_background": "light"
     },
     "output_type": "display_data"
    }
   ],
   "source": [
    "trees.groupby([trees.Type]).Tree.count().plot(kind='bar')"
   ]
  },
  {
   "cell_type": "code",
   "execution_count": 23,
   "metadata": {},
   "outputs": [
    {
     "data": {
      "image/png": "[encoded data removed]",
      "text/plain": [
       "<Figure size 432x288 with 1 Axes>"
      ]
     },
     "metadata": {
      "needs_background": "light"
     },
     "output_type": "display_data"
    }
   ],
   "source": [
    "plot1DHist(trees['Trunk Cir.'],'Trunk Circumference [cm]','Number of trees')"
   ]
  },
  {
   "cell_type": "code",
   "execution_count": 24,
   "metadata": {},
   "outputs": [
    {
     "data": {
      "image/png": "[encoded data removed]",
      "text/plain": [
       "<Figure size 432x288 with 1 Axes>"
      ]
     },
     "metadata": {
      "needs_background": "light"
     },
     "output_type": "display_data"
    }
   ],
   "source": [
    "plot1DHist(trees['Shade'],'Percent of canopy shaded at noon','Number of trees')"
   ]
  },
  {
   "cell_type": "code",
   "execution_count": 25,
   "metadata": {
    "scrolled": false
   },
   "outputs": [
    {
     "data": {
      "image/png": "[encoded data removed]",
      "text/plain": [
       "<Figure size 432x288 with 1 Axes>"
      ]
     },
     "metadata": {
      "needs_background": "light"
     },
     "output_type": "display_data"
    }
   ],
   "source": [
    "plot1DHist(trees['Cover'],'Percent of ground shaded at noon','Number of trees')"
   ]
  },
  {
   "cell_type": "markdown",
   "metadata": {},
   "source": [
    "### Investigate if there are any strong correlations between the tree variables, in particular the treatment types.\n",
    "\n",
    "We will need to keep this in mind before we can make any strong statements about our findings."
   ]
  },
  {
   "cell_type": "code",
   "execution_count": 26,
   "metadata": {},
   "outputs": [
    {
     "data": {
      "text/plain": [
       "<seaborn.axisgrid.FacetGrid at 0x1a1df03c90>"
      ]
     },
     "execution_count": 26,
     "metadata": {},
     "output_type": "execute_result"
    },
    {
     "data": {
      "image/png": "[encoded data removed]",
      "text/plain": [
       "<Figure size 360x360 with 1 Axes>"
      ]
     },
     "metadata": {
      "needs_background": "light"
     },
     "output_type": "display_data"
    }
   ],
   "source": [
    "sns.catplot(x=\"Treatment\", y=\"Trunk Cir.\",\n",
    "            kind=\"box\", data=trees)"
   ]
  },
  {
   "cell_type": "code",
   "execution_count": 27,
   "metadata": {},
   "outputs": [
    {
     "data": {
      "text/plain": [
       "<seaborn.axisgrid.FacetGrid at 0x1a1edd1850>"
      ]
     },
     "execution_count": 27,
     "metadata": {},
     "output_type": "execute_result"
    },
    {
     "data": {
      "image/png": "[encoded data removed]",
      "text/plain": [
       "<Figure size 360x360 with 1 Axes>"
      ]
     },
     "metadata": {
      "needs_background": "light"
     },
     "output_type": "display_data"
    }
   ],
   "source": [
    "sns.catplot(x=\"Treatment\", y=\"Canopy HT\",\n",
    "            kind=\"box\", data=trees)"
   ]
  },
  {
   "cell_type": "code",
   "execution_count": 28,
   "metadata": {},
   "outputs": [
    {
     "data": {
      "text/plain": [
       "<seaborn.axisgrid.FacetGrid at 0x1a1ef4d590>"
      ]
     },
     "execution_count": 28,
     "metadata": {},
     "output_type": "execute_result"
    },
    {
     "data": {
      "image/png": "[encoded data removed]",
      "text/plain": [
       "<Figure size 360x360 with 1 Axes>"
      ]
     },
     "metadata": {
      "needs_background": "light"
     },
     "output_type": "display_data"
    }
   ],
   "source": [
    "sns.catplot(x=\"Treatment\", y=\"Shade\",\n",
    "            kind=\"box\", data=trees)"
   ]
  },
  {
   "cell_type": "code",
   "execution_count": 29,
   "metadata": {},
   "outputs": [
    {
     "data": {
      "text/plain": [
       "<seaborn.axisgrid.FacetGrid at 0x1a1ef9c7d0>"
      ]
     },
     "execution_count": 29,
     "metadata": {},
     "output_type": "execute_result"
    },
    {
     "data": {
      "image/png": "[encoded data removed]",
      "text/plain": [
       "<Figure size 360x360 with 1 Axes>"
      ]
     },
     "metadata": {
      "needs_background": "light"
     },
     "output_type": "display_data"
    }
   ],
   "source": [
    "sns.catplot(x=\"Treatment\", y=\"Cover\",\n",
    "            kind=\"box\", data=trees)"
   ]
  },
  {
   "cell_type": "markdown",
   "metadata": {},
   "source": [
    "There are no obvious discrepancies between the tree spec distributions and the pollination treatment administered to them. So we can treat these as a second-order effect."
   ]
  },
  {
   "cell_type": "markdown",
   "metadata": {},
   "source": [
    "## Now look at flowers data..."
   ]
  },
  {
   "cell_type": "code",
   "execution_count": 30,
   "metadata": {
    "scrolled": true
   },
   "outputs": [
    {
     "name": "stdout",
     "output_type": "stream",
     "text": [
      "<class 'pandas.core.frame.DataFrame'>\n",
      "RangeIndex: 1833 entries, 0 to 1832\n",
      "Data columns (total 12 columns):\n",
      "CollectingEvent          1833 non-null int64\n",
      "Chakra                   1833 non-null object\n",
      "Tree                     1833 non-null int64\n",
      "Dist                     1833 non-null object\n",
      "Ht                       1833 non-null int64\n",
      "Diam                     1833 non-null float64\n",
      "Trt                      1833 non-null object\n",
      "Branch                   1833 non-null object\n",
      "Date                     1833 non-null object\n",
      "Fruit (y/n)              1833 non-null object\n",
      "Size (if Y for Fruit)    286 non-null object\n",
      "Notes                    3 non-null object\n",
      "dtypes: float64(1), int64(3), object(8)\n",
      "memory usage: 172.0+ KB\n"
     ]
    }
   ],
   "source": [
    "flowers.info()"
   ]
  },
  {
   "cell_type": "code",
   "execution_count": 31,
   "metadata": {},
   "outputs": [
    {
     "data": {
      "text/plain": [
       "<matplotlib.axes._subplots.AxesSubplot at 0x1a1f311bd0>"
      ]
     },
     "execution_count": 31,
     "metadata": {},
     "output_type": "execute_result"
    },
    {
     "data": {
      "image/png": "[encoded data removed]",
      "text/plain": [
       "<Figure size 432x288 with 1 Axes>"
      ]
     },
     "metadata": {
      "needs_background": "light"
     },
     "output_type": "display_data"
    }
   ],
   "source": [
    "flowers.groupby([flowers['Fruit (y/n) ']]).Tree.count().plot(kind='bar')"
   ]
  },
  {
   "cell_type": "code",
   "execution_count": 32,
   "metadata": {
    "scrolled": true
   },
   "outputs": [
    {
     "data": {
      "text/html": [
       "<div>\n",
       "<style scoped>\n",
       "    .dataframe tbody tr th:only-of-type {\n",
       "        vertical-align: middle;\n",
       "    }\n",
       "\n",
       "    .dataframe tbody tr th {\n",
       "        vertical-align: top;\n",
       "    }\n",
       "\n",
       "    .dataframe thead th {\n",
       "        text-align: right;\n",
       "    }\n",
       "</style>\n",
       "<table border=\"1\" class=\"dataframe\">\n",
       "  <thead>\n",
       "    <tr style=\"text-align: right;\">\n",
       "      <th></th>\n",
       "      <th>CollectingEvent</th>\n",
       "      <th>Chakra</th>\n",
       "      <th>Tree</th>\n",
       "      <th>Dist</th>\n",
       "      <th>Ht</th>\n",
       "      <th>Diam</th>\n",
       "      <th>Trt</th>\n",
       "      <th>Branch</th>\n",
       "      <th>Date</th>\n",
       "      <th>Fruit (y/n)</th>\n",
       "      <th>Size (if Y for Fruit)</th>\n",
       "      <th>Notes</th>\n",
       "    </tr>\n",
       "  </thead>\n",
       "  <tbody>\n",
       "    <tr>\n",
       "      <td>760</td>\n",
       "      <td>2512</td>\n",
       "      <td>CC1</td>\n",
       "      <td>12</td>\n",
       "      <td>76</td>\n",
       "      <td>147</td>\n",
       "      <td>3.0</td>\n",
       "      <td>O</td>\n",
       "      <td>A1C</td>\n",
       "      <td>11/6/2016</td>\n",
       "      <td>BC</td>\n",
       "      <td>NaN</td>\n",
       "      <td>NaN</td>\n",
       "    </tr>\n",
       "    <tr>\n",
       "      <td>770</td>\n",
       "      <td>2512</td>\n",
       "      <td>CC1</td>\n",
       "      <td>11</td>\n",
       "      <td>117</td>\n",
       "      <td>188</td>\n",
       "      <td>7.0</td>\n",
       "      <td>H</td>\n",
       "      <td>B3-4</td>\n",
       "      <td>11/6/2016</td>\n",
       "      <td>BC</td>\n",
       "      <td>NaN</td>\n",
       "      <td>NaN</td>\n",
       "    </tr>\n",
       "    <tr>\n",
       "      <td>771</td>\n",
       "      <td>2512</td>\n",
       "      <td>CC1</td>\n",
       "      <td>11</td>\n",
       "      <td>126</td>\n",
       "      <td>196</td>\n",
       "      <td>7.0</td>\n",
       "      <td>O</td>\n",
       "      <td>B3-4</td>\n",
       "      <td>11/6/2016</td>\n",
       "      <td>BC</td>\n",
       "      <td>NaN</td>\n",
       "      <td>NaN</td>\n",
       "    </tr>\n",
       "  </tbody>\n",
       "</table>\n",
       "</div>"
      ],
      "text/plain": [
       "     CollectingEvent Chakra  Tree Dist   Ht  Diam Trt Branch       Date  \\\n",
       "760             2512    CC1    12   76  147   3.0   O    A1C  11/6/2016   \n",
       "770             2512    CC1    11  117  188   7.0   H   B3-4  11/6/2016   \n",
       "771             2512    CC1    11  126  196   7.0   O   B3-4  11/6/2016   \n",
       "\n",
       "    Fruit (y/n)  Size (if Y for Fruit) Notes  \n",
       "760           BC                   NaN   NaN  \n",
       "770           BC                   NaN   NaN  \n",
       "771           BC                   NaN   NaN  "
      ]
     },
     "execution_count": 32,
     "metadata": {},
     "output_type": "execute_result"
    }
   ],
   "source": [
    "flowers.loc[flowers['Fruit (y/n) ']=='BC']"
   ]
  },
  {
   "cell_type": "markdown",
   "metadata": {},
   "source": [
    "Experts also say we can ignore the 'BC' class."
   ]
  },
  {
   "cell_type": "code",
   "execution_count": 33,
   "metadata": {
    "scrolled": false
   },
   "outputs": [],
   "source": [
    "flowers = flowers[flowers['Fruit (y/n) ']!='BC']"
   ]
  },
  {
   "cell_type": "markdown",
   "metadata": {},
   "source": [
    "### Create the same unique field-tree ID in this dataframe.\n",
    "### Then merge with trees dataframe."
   ]
  },
  {
   "cell_type": "code",
   "execution_count": 34,
   "metadata": {},
   "outputs": [],
   "source": [
    "flowers['ChakraTree']=flowers['Chakra'].str.cat(flowers['Tree'].astype(str))"
   ]
  },
  {
   "cell_type": "code",
   "execution_count": 35,
   "metadata": {},
   "outputs": [],
   "source": [
    "flowers.drop(columns=['Chakra','Tree'],inplace=True)"
   ]
  },
  {
   "cell_type": "code",
   "execution_count": 36,
   "metadata": {},
   "outputs": [],
   "source": [
    "flowerTrees = pd.merge(flowers,trees,on='ChakraTree',how='right')"
   ]
  },
  {
   "cell_type": "code",
   "execution_count": 37,
   "metadata": {
    "scrolled": false
   },
   "outputs": [
    {
     "name": "stdout",
     "output_type": "stream",
     "text": [
      "<class 'pandas.core.frame.DataFrame'>\n",
      "Int64Index: 1837 entries, 0 to 1836\n",
      "Data columns (total 20 columns):\n",
      "CollectingEvent          1830 non-null float64\n",
      "Dist                     1830 non-null object\n",
      "Ht                       1830 non-null float64\n",
      "Diam                     1830 non-null float64\n",
      "Trt                      1830 non-null object\n",
      "Branch                   1830 non-null object\n",
      "Date                     1830 non-null object\n",
      "Fruit (y/n)              1830 non-null object\n",
      "Size (if Y for Fruit)    286 non-null object\n",
      "Notes                    3 non-null object\n",
      "ChakraTree               1837 non-null object\n",
      "Chakra                   1837 non-null object\n",
      "Tree                     1837 non-null int64\n",
      "Treatment                1837 non-null object\n",
      "Type                     1837 non-null object\n",
      "Trunk Cir.               1837 non-null int64\n",
      "Canopy HT                1837 non-null float64\n",
      "Water                    1837 non-null object\n",
      "Shade                    1837 non-null int64\n",
      "Cover                    1837 non-null int64\n",
      "dtypes: float64(4), int64(4), object(12)\n",
      "memory usage: 301.4+ KB\n"
     ]
    }
   ],
   "source": [
    "flowerTrees.info()"
   ]
  },
  {
   "cell_type": "code",
   "execution_count": 38,
   "metadata": {
    "scrolled": true
   },
   "outputs": [
    {
     "data": {
      "text/html": [
       "<div>\n",
       "<style scoped>\n",
       "    .dataframe tbody tr th:only-of-type {\n",
       "        vertical-align: middle;\n",
       "    }\n",
       "\n",
       "    .dataframe tbody tr th {\n",
       "        vertical-align: top;\n",
       "    }\n",
       "\n",
       "    .dataframe thead th {\n",
       "        text-align: right;\n",
       "    }\n",
       "</style>\n",
       "<table border=\"1\" class=\"dataframe\">\n",
       "  <thead>\n",
       "    <tr style=\"text-align: right;\">\n",
       "      <th></th>\n",
       "      <th>CollectingEvent</th>\n",
       "      <th>Dist</th>\n",
       "      <th>Ht</th>\n",
       "      <th>Diam</th>\n",
       "      <th>Trt</th>\n",
       "      <th>Branch</th>\n",
       "      <th>Date</th>\n",
       "      <th>Fruit (y/n)</th>\n",
       "      <th>Size (if Y for Fruit)</th>\n",
       "      <th>Notes</th>\n",
       "      <th>ChakraTree</th>\n",
       "      <th>Chakra</th>\n",
       "      <th>Tree</th>\n",
       "      <th>Treatment</th>\n",
       "      <th>Type</th>\n",
       "      <th>Trunk Cir.</th>\n",
       "      <th>Canopy HT</th>\n",
       "      <th>Water</th>\n",
       "      <th>Shade</th>\n",
       "      <th>Cover</th>\n",
       "    </tr>\n",
       "  </thead>\n",
       "  <tbody>\n",
       "    <tr>\n",
       "      <td>0</td>\n",
       "      <td>2501.0</td>\n",
       "      <td>23</td>\n",
       "      <td>123.0</td>\n",
       "      <td>7.0</td>\n",
       "      <td>O</td>\n",
       "      <td>A</td>\n",
       "      <td>10/21/2016</td>\n",
       "      <td>N</td>\n",
       "      <td>NaN</td>\n",
       "      <td>NaN</td>\n",
       "      <td>CC11</td>\n",
       "      <td>CC1</td>\n",
       "      <td>1</td>\n",
       "      <td>LB</td>\n",
       "      <td>G</td>\n",
       "      <td>47</td>\n",
       "      <td>380.0</td>\n",
       "      <td>N</td>\n",
       "      <td>10</td>\n",
       "      <td>25</td>\n",
       "    </tr>\n",
       "    <tr>\n",
       "      <td>1</td>\n",
       "      <td>2501.0</td>\n",
       "      <td>184</td>\n",
       "      <td>201.0</td>\n",
       "      <td>1.5</td>\n",
       "      <td>H</td>\n",
       "      <td>B4C4-5</td>\n",
       "      <td>10/21/2016</td>\n",
       "      <td>N</td>\n",
       "      <td>NaN</td>\n",
       "      <td>NaN</td>\n",
       "      <td>CC11</td>\n",
       "      <td>CC1</td>\n",
       "      <td>1</td>\n",
       "      <td>LB</td>\n",
       "      <td>G</td>\n",
       "      <td>47</td>\n",
       "      <td>380.0</td>\n",
       "      <td>N</td>\n",
       "      <td>10</td>\n",
       "      <td>25</td>\n",
       "    </tr>\n",
       "    <tr>\n",
       "      <td>2</td>\n",
       "      <td>2501.0</td>\n",
       "      <td>94</td>\n",
       "      <td>184.0</td>\n",
       "      <td>6.0</td>\n",
       "      <td>O</td>\n",
       "      <td>A6-7</td>\n",
       "      <td>10/21/2016</td>\n",
       "      <td>N</td>\n",
       "      <td>NaN</td>\n",
       "      <td>NaN</td>\n",
       "      <td>CC11</td>\n",
       "      <td>CC1</td>\n",
       "      <td>1</td>\n",
       "      <td>LB</td>\n",
       "      <td>G</td>\n",
       "      <td>47</td>\n",
       "      <td>380.0</td>\n",
       "      <td>N</td>\n",
       "      <td>10</td>\n",
       "      <td>25</td>\n",
       "    </tr>\n",
       "    <tr>\n",
       "      <td>3</td>\n",
       "      <td>2501.0</td>\n",
       "      <td>87</td>\n",
       "      <td>150.0</td>\n",
       "      <td>8.0</td>\n",
       "      <td>O</td>\n",
       "      <td>B</td>\n",
       "      <td>10/21/2016</td>\n",
       "      <td>N</td>\n",
       "      <td>NaN</td>\n",
       "      <td>NaN</td>\n",
       "      <td>CC11</td>\n",
       "      <td>CC1</td>\n",
       "      <td>1</td>\n",
       "      <td>LB</td>\n",
       "      <td>G</td>\n",
       "      <td>47</td>\n",
       "      <td>380.0</td>\n",
       "      <td>N</td>\n",
       "      <td>10</td>\n",
       "      <td>25</td>\n",
       "    </tr>\n",
       "    <tr>\n",
       "      <td>4</td>\n",
       "      <td>2501.0</td>\n",
       "      <td>104</td>\n",
       "      <td>162.0</td>\n",
       "      <td>7.0</td>\n",
       "      <td>H</td>\n",
       "      <td>B1-2</td>\n",
       "      <td>10/21/2016</td>\n",
       "      <td>N</td>\n",
       "      <td>NaN</td>\n",
       "      <td>NaN</td>\n",
       "      <td>CC11</td>\n",
       "      <td>CC1</td>\n",
       "      <td>1</td>\n",
       "      <td>LB</td>\n",
       "      <td>G</td>\n",
       "      <td>47</td>\n",
       "      <td>380.0</td>\n",
       "      <td>N</td>\n",
       "      <td>10</td>\n",
       "      <td>25</td>\n",
       "    </tr>\n",
       "  </tbody>\n",
       "</table>\n",
       "</div>"
      ],
      "text/plain": [
       "   CollectingEvent Dist     Ht  Diam Trt  Branch        Date Fruit (y/n)   \\\n",
       "0           2501.0   23  123.0   7.0   O       A  10/21/2016            N   \n",
       "1           2501.0  184  201.0   1.5   H  B4C4-5  10/21/2016            N   \n",
       "2           2501.0   94  184.0   6.0   O    A6-7  10/21/2016            N   \n",
       "3           2501.0   87  150.0   8.0   O       B  10/21/2016            N   \n",
       "4           2501.0  104  162.0   7.0   H    B1-2  10/21/2016            N   \n",
       "\n",
       "  Size (if Y for Fruit) Notes ChakraTree Chakra  Tree Treatment Type  \\\n",
       "0                   NaN   NaN       CC11    CC1     1        LB    G   \n",
       "1                   NaN   NaN       CC11    CC1     1        LB    G   \n",
       "2                   NaN   NaN       CC11    CC1     1        LB    G   \n",
       "3                   NaN   NaN       CC11    CC1     1        LB    G   \n",
       "4                   NaN   NaN       CC11    CC1     1        LB    G   \n",
       "\n",
       "   Trunk Cir.  Canopy HT Water  Shade  Cover  \n",
       "0          47      380.0     N     10     25  \n",
       "1          47      380.0     N     10     25  \n",
       "2          47      380.0     N     10     25  \n",
       "3          47      380.0     N     10     25  \n",
       "4          47      380.0     N     10     25  "
      ]
     },
     "execution_count": 38,
     "metadata": {},
     "output_type": "execute_result"
    }
   ],
   "source": [
    "flowerTrees.head()"
   ]
  },
  {
   "cell_type": "markdown",
   "metadata": {},
   "source": [
    "#### Check out the number of flowers that were hand vs open pollinated"
   ]
  },
  {
   "cell_type": "code",
   "execution_count": 39,
   "metadata": {},
   "outputs": [
    {
     "data": {
      "text/plain": [
       "Text(0, 0.5, 'Number of flowers')"
      ]
     },
     "execution_count": 39,
     "metadata": {},
     "output_type": "execute_result"
    },
    {
     "data": {
      "image/png": "[encoded data removed]",
      "text/plain": [
       "<Figure size 432x288 with 1 Axes>"
      ]
     },
     "metadata": {
      "needs_background": "light"
     },
     "output_type": "display_data"
    }
   ],
   "source": [
    "flowerTrees.groupby(flowerTrees['Trt']).Water.count().plot(kind='bar')\n",
    "plt.xlabel('Flower pollination')\n",
    "plt.ylabel('Number of flowers')"
   ]
  },
  {
   "cell_type": "markdown",
   "metadata": {},
   "source": [
    "#### Now check out the number of flowers *with fruit* that were hand vs open pollinated"
   ]
  },
  {
   "cell_type": "code",
   "execution_count": 40,
   "metadata": {
    "scrolled": true
   },
   "outputs": [
    {
     "data": {
      "text/plain": [
       "Text(0, 0.5, 'Number of flowers with fruit')"
      ]
     },
     "execution_count": 40,
     "metadata": {},
     "output_type": "execute_result"
    },
    {
     "data": {
      "image/png": "[encoded data removed]",
      "text/plain": [
       "<Figure size 432x288 with 1 Axes>"
      ]
     },
     "metadata": {
      "needs_background": "light"
     },
     "output_type": "display_data"
    }
   ],
   "source": [
    "flowerTrees.loc[flowerTrees['Fruit (y/n) ']=='Y'].groupby(flowerTrees['Trt']).Water.count().plot(kind='bar')\n",
    "plt.xlabel('Flower pollination')\n",
    "plt.ylabel('Number of flowers with fruit')"
   ]
  },
  {
   "cell_type": "markdown",
   "metadata": {},
   "source": [
    "So hand pollination has a much higher fruit rate than open pollination.\n",
    "\n",
    "More EDA..."
   ]
  },
  {
   "cell_type": "code",
   "execution_count": 41,
   "metadata": {
    "scrolled": false
   },
   "outputs": [
    {
     "data": {
      "text/plain": [
       "array(['1.15', '1.1', 'CW', '0.97', '1.03', '1.2', '0.4', '1', '0.5',\n",
       "       '0.45', '1.35', '1.3', '1.56', '1.5', '1.47', '1.49', '1.44',\n",
       "       '0.65', '1.38', '1.4', '0.35', '0.6', '0.55', '0.7', '1.25',\n",
       "       '0.75', '1.05', '0.95', '0.8', '0.9', 'ID', '0.85', '0.135',\n",
       "       '1.45', '1.6', '1.7'], dtype=object)"
      ]
     },
     "execution_count": 41,
     "metadata": {},
     "output_type": "execute_result"
    }
   ],
   "source": [
    "#flowerTrees.loc[flowerTrees['Fruit (y/n) ']=='Y']['Size (if Y for Fruit)'].astype(float).hist()\n",
    "flowerTrees.loc[flowerTrees['Fruit (y/n) ']=='Y']['Size (if Y for Fruit)'].unique()"
   ]
  },
  {
   "cell_type": "markdown",
   "metadata": {},
   "source": [
    "Still some cleaning up to do, we only want numbers for fruit size"
   ]
  },
  {
   "cell_type": "code",
   "execution_count": 42,
   "metadata": {},
   "outputs": [],
   "source": [
    "flowerTrees['Size (if Y for Fruit)'].replace('CW',None,inplace=True)\n",
    "flowerTrees['Size (if Y for Fruit)'].replace('ID',None,inplace=True)"
   ]
  },
  {
   "cell_type": "code",
   "execution_count": 43,
   "metadata": {},
   "outputs": [],
   "source": [
    "# also clean up missing values\n",
    "# now there will be fruit info for the \"no fruit\" rows as well, but that's ok, we have that info independently\n",
    "flowerTrees.fillna(value={'Size (if Y for Fruit)':flowerTrees['Size (if Y for Fruit)'].astype(float).mean()},inplace=True)"
   ]
  },
  {
   "cell_type": "code",
   "execution_count": 44,
   "metadata": {},
   "outputs": [
    {
     "data": {
      "text/plain": [
       "array(['1.15', '1.1', 0.7542418772563175, '0.97', '1.03', '1.2', '0.4',\n",
       "       '1', '0.5', '0.45', '1.35', '1.3', '1.56', '1.5', '1.47', '1.49',\n",
       "       '1.44', '0.65', '1.38', '1.4', '0.35', '0.6', '0.55', '0.7',\n",
       "       '1.25', '0.75', '1.05', '0.95', '0.8', '0.9', '0.85', '0.135',\n",
       "       '1.45', '1.6', '1.7'], dtype=object)"
      ]
     },
     "execution_count": 44,
     "metadata": {},
     "output_type": "execute_result"
    }
   ],
   "source": [
    "flowerTrees.loc[flowerTrees['Fruit (y/n) ']=='Y']['Size (if Y for Fruit)'].unique()"
   ]
  },
  {
   "cell_type": "code",
   "execution_count": 45,
   "metadata": {},
   "outputs": [],
   "source": [
    "flowerTrees['Size (if Y for Fruit)']=flowerTrees['Size (if Y for Fruit)'].astype(float)"
   ]
  },
  {
   "cell_type": "code",
   "execution_count": 46,
   "metadata": {
    "scrolled": true
   },
   "outputs": [
    {
     "data": {
      "image/png": "[encoded data removed]",
      "text/plain": [
       "<Figure size 432x288 with 1 Axes>"
      ]
     },
     "metadata": {
      "needs_background": "light"
     },
     "output_type": "display_data"
    }
   ],
   "source": [
    "plot1DHist(flowerTrees.loc[flowerTrees['Fruit (y/n) ']=='Y']['Size (if Y for Fruit)'],'Size of fruit','Number of fruits')"
   ]
  },
  {
   "cell_type": "markdown",
   "metadata": {},
   "source": [
    "Check: Could we target the hand-pollination to specific locations on the tree to increase fruits?"
   ]
  },
  {
   "cell_type": "code",
   "execution_count": 47,
   "metadata": {
    "scrolled": true
   },
   "outputs": [
    {
     "data": {
      "text/plain": [
       "Text(26.97361111111112, 0.5, 'Flower height from ground [cm]')"
      ]
     },
     "execution_count": 47,
     "metadata": {},
     "output_type": "execute_result"
    },
    {
     "data": {
      "image/png": "[encoded data removed]",
      "text/plain": [
       "<Figure size 403.75x360 with 1 Axes>"
      ]
     },
     "metadata": {
      "needs_background": "light"
     },
     "output_type": "display_data"
    }
   ],
   "source": [
    "sns.catplot(x=\"Fruit (y/n) \", y=\"Ht\",\n",
    "            kind=\"box\", data=flowers, hue='Trt')\n",
    "plt.ylabel('Flower height from ground [cm]')"
   ]
  },
  {
   "cell_type": "code",
   "execution_count": 48,
   "metadata": {},
   "outputs": [],
   "source": [
    "flowers['Dist'].replace('-',None,inplace=True)\n",
    "flowers.fillna(value={'Dist':flowers['Dist'].astype(float).mean()},inplace=True)\n",
    "flowers.Dist.unique()\n",
    "flowers.Dist = flowers.Dist.astype(float)"
   ]
  },
  {
   "cell_type": "code",
   "execution_count": 49,
   "metadata": {},
   "outputs": [
    {
     "data": {
      "text/plain": [
       "Text(26.958420138888897, 0.5, 'Flower distance to trunk [cm]')"
      ]
     },
     "execution_count": 49,
     "metadata": {},
     "output_type": "execute_result"
    },
    {
     "data": {
      "image/png": "[encoded data removed]",
      "text/plain": [
       "<Figure size 403.75x360 with 1 Axes>"
      ]
     },
     "metadata": {
      "needs_background": "light"
     },
     "output_type": "display_data"
    }
   ],
   "source": [
    "sns.catplot(x=\"Fruit (y/n) \", y=\"Dist\",\n",
    "            kind=\"box\", data=flowers, hue='Trt')\n",
    "plt.ylabel('Flower distance to trunk [cm]')"
   ]
  },
  {
   "cell_type": "code",
   "execution_count": 50,
   "metadata": {},
   "outputs": [
    {
     "data": {
      "text/plain": [
       "Text(27.38376736111112, 0.5, 'Branch diameter at flower location [cm]')"
      ]
     },
     "execution_count": 50,
     "metadata": {},
     "output_type": "execute_result"
    },
    {
     "data": {
      "image/png": "[encoded data removed]",
      "text/plain": [
       "<Figure size 403.75x360 with 1 Axes>"
      ]
     },
     "metadata": {
      "needs_background": "light"
     },
     "output_type": "display_data"
    }
   ],
   "source": [
    "sns.catplot(x=\"Fruit (y/n) \", y=\"Diam\",\n",
    "            kind=\"box\", data=flowers, hue='Trt')\n",
    "plt.ylabel('Branch diameter at flower location [cm]')"
   ]
  },
  {
   "cell_type": "markdown",
   "metadata": {},
   "source": [
    "There are no obvious dependencies here between the location of the flower and its chance of having fruit."
   ]
  },
  {
   "cell_type": "markdown",
   "metadata": {},
   "source": [
    "### Get the total count of fruits on each tree\n",
    "#### Count separately for hand-pollinated and open-pollinated as well"
   ]
  },
  {
   "cell_type": "code",
   "execution_count": 51,
   "metadata": {},
   "outputs": [],
   "source": [
    "flowerTrees['fruit']=flowerTrees.apply(lambda x: 1 if x['Fruit (y/n) '] =='Y' else 0 , axis=1)\n",
    "flowerTrees['fruitO']=flowerTrees.apply(lambda x: 1 if x['Fruit (y/n) '] =='Y' and x['Trt']=='O' else 0 , axis=1)\n",
    "flowerTrees['fruitH']=flowerTrees.apply(lambda x: 1 if x['Fruit (y/n) '] =='Y' and x['Trt']=='H' else 0 , axis=1)"
   ]
  },
  {
   "cell_type": "code",
   "execution_count": 52,
   "metadata": {
    "scrolled": true
   },
   "outputs": [],
   "source": [
    "fCount=flowerTrees.join(pd.get_dummies(flowerTrees['fruit'])).groupby('ChakraTree').agg(\n",
    "    dict(fruit='sum')\n",
    ")\n",
    "fCountO=flowerTrees.join(pd.get_dummies(flowerTrees['fruitO'])).groupby('ChakraTree').agg(\n",
    "    dict(fruitO='sum')\n",
    ")\n",
    "fCountH=flowerTrees.join(pd.get_dummies(flowerTrees['fruitH'])).groupby('ChakraTree').agg(\n",
    "    dict(fruitH='sum')\n",
    ")\n",
    "\n",
    "fCount['fruitCount'] = fCount['fruit']\n",
    "fCountO['fruitCountO'] = fCountO['fruitO']\n",
    "fCountH['fruitCountH'] = fCountH['fruitH']\n",
    "\n",
    "fCount = pd.merge(fCount,fCountO,on='ChakraTree')\n",
    "fCount = pd.merge(fCount,fCountH,on='ChakraTree')\n",
    "fCount.drop(columns=['fruit','fruitO','fruitH'],inplace=True)"
   ]
  },
  {
   "cell_type": "markdown",
   "metadata": {},
   "source": [
    "Merge these fruit count dataframes with the existing tree and flower dataframes\n",
    "\n",
    "(Going back to tree dataframe here because this way it's easier to count fruits per tree)"
   ]
  },
  {
   "cell_type": "code",
   "execution_count": 53,
   "metadata": {},
   "outputs": [],
   "source": [
    "treeFruitCount = pd.merge(trees,fCount,on=('ChakraTree'))\n",
    "flowerTrees = pd.merge(flowerTrees,fCount,on=('ChakraTree'))"
   ]
  },
  {
   "cell_type": "code",
   "execution_count": 54,
   "metadata": {
    "scrolled": false
   },
   "outputs": [
    {
     "data": {
      "text/html": [
       "<div>\n",
       "<style scoped>\n",
       "    .dataframe tbody tr th:only-of-type {\n",
       "        vertical-align: middle;\n",
       "    }\n",
       "\n",
       "    .dataframe tbody tr th {\n",
       "        vertical-align: top;\n",
       "    }\n",
       "\n",
       "    .dataframe thead th {\n",
       "        text-align: right;\n",
       "    }\n",
       "</style>\n",
       "<table border=\"1\" class=\"dataframe\">\n",
       "  <thead>\n",
       "    <tr style=\"text-align: right;\">\n",
       "      <th></th>\n",
       "      <th>CollectingEvent</th>\n",
       "      <th>Dist</th>\n",
       "      <th>Ht</th>\n",
       "      <th>Diam</th>\n",
       "      <th>Trt</th>\n",
       "      <th>Branch</th>\n",
       "      <th>Date</th>\n",
       "      <th>Fruit (y/n)</th>\n",
       "      <th>Size (if Y for Fruit)</th>\n",
       "      <th>Notes</th>\n",
       "      <th>...</th>\n",
       "      <th>Canopy HT</th>\n",
       "      <th>Water</th>\n",
       "      <th>Shade</th>\n",
       "      <th>Cover</th>\n",
       "      <th>fruit</th>\n",
       "      <th>fruitO</th>\n",
       "      <th>fruitH</th>\n",
       "      <th>fruitCount</th>\n",
       "      <th>fruitCountO</th>\n",
       "      <th>fruitCountH</th>\n",
       "    </tr>\n",
       "  </thead>\n",
       "  <tbody>\n",
       "    <tr>\n",
       "      <td>0</td>\n",
       "      <td>2501.0</td>\n",
       "      <td>23</td>\n",
       "      <td>123.0</td>\n",
       "      <td>7.0</td>\n",
       "      <td>O</td>\n",
       "      <td>A</td>\n",
       "      <td>10/21/2016</td>\n",
       "      <td>N</td>\n",
       "      <td>0.754242</td>\n",
       "      <td>NaN</td>\n",
       "      <td>...</td>\n",
       "      <td>380.0</td>\n",
       "      <td>N</td>\n",
       "      <td>10</td>\n",
       "      <td>25</td>\n",
       "      <td>0</td>\n",
       "      <td>0</td>\n",
       "      <td>0</td>\n",
       "      <td>2</td>\n",
       "      <td>0</td>\n",
       "      <td>2</td>\n",
       "    </tr>\n",
       "    <tr>\n",
       "      <td>1</td>\n",
       "      <td>2501.0</td>\n",
       "      <td>184</td>\n",
       "      <td>201.0</td>\n",
       "      <td>1.5</td>\n",
       "      <td>H</td>\n",
       "      <td>B4C4-5</td>\n",
       "      <td>10/21/2016</td>\n",
       "      <td>N</td>\n",
       "      <td>0.754242</td>\n",
       "      <td>NaN</td>\n",
       "      <td>...</td>\n",
       "      <td>380.0</td>\n",
       "      <td>N</td>\n",
       "      <td>10</td>\n",
       "      <td>25</td>\n",
       "      <td>0</td>\n",
       "      <td>0</td>\n",
       "      <td>0</td>\n",
       "      <td>2</td>\n",
       "      <td>0</td>\n",
       "      <td>2</td>\n",
       "    </tr>\n",
       "    <tr>\n",
       "      <td>2</td>\n",
       "      <td>2501.0</td>\n",
       "      <td>94</td>\n",
       "      <td>184.0</td>\n",
       "      <td>6.0</td>\n",
       "      <td>O</td>\n",
       "      <td>A6-7</td>\n",
       "      <td>10/21/2016</td>\n",
       "      <td>N</td>\n",
       "      <td>0.754242</td>\n",
       "      <td>NaN</td>\n",
       "      <td>...</td>\n",
       "      <td>380.0</td>\n",
       "      <td>N</td>\n",
       "      <td>10</td>\n",
       "      <td>25</td>\n",
       "      <td>0</td>\n",
       "      <td>0</td>\n",
       "      <td>0</td>\n",
       "      <td>2</td>\n",
       "      <td>0</td>\n",
       "      <td>2</td>\n",
       "    </tr>\n",
       "    <tr>\n",
       "      <td>3</td>\n",
       "      <td>2501.0</td>\n",
       "      <td>87</td>\n",
       "      <td>150.0</td>\n",
       "      <td>8.0</td>\n",
       "      <td>O</td>\n",
       "      <td>B</td>\n",
       "      <td>10/21/2016</td>\n",
       "      <td>N</td>\n",
       "      <td>0.754242</td>\n",
       "      <td>NaN</td>\n",
       "      <td>...</td>\n",
       "      <td>380.0</td>\n",
       "      <td>N</td>\n",
       "      <td>10</td>\n",
       "      <td>25</td>\n",
       "      <td>0</td>\n",
       "      <td>0</td>\n",
       "      <td>0</td>\n",
       "      <td>2</td>\n",
       "      <td>0</td>\n",
       "      <td>2</td>\n",
       "    </tr>\n",
       "    <tr>\n",
       "      <td>4</td>\n",
       "      <td>2501.0</td>\n",
       "      <td>104</td>\n",
       "      <td>162.0</td>\n",
       "      <td>7.0</td>\n",
       "      <td>H</td>\n",
       "      <td>B1-2</td>\n",
       "      <td>10/21/2016</td>\n",
       "      <td>N</td>\n",
       "      <td>0.754242</td>\n",
       "      <td>NaN</td>\n",
       "      <td>...</td>\n",
       "      <td>380.0</td>\n",
       "      <td>N</td>\n",
       "      <td>10</td>\n",
       "      <td>25</td>\n",
       "      <td>0</td>\n",
       "      <td>0</td>\n",
       "      <td>0</td>\n",
       "      <td>2</td>\n",
       "      <td>0</td>\n",
       "      <td>2</td>\n",
       "    </tr>\n",
       "  </tbody>\n",
       "</table>\n",
       "<p>5 rows × 26 columns</p>\n",
       "</div>"
      ],
      "text/plain": [
       "   CollectingEvent Dist     Ht  Diam Trt  Branch        Date Fruit (y/n)   \\\n",
       "0           2501.0   23  123.0   7.0   O       A  10/21/2016            N   \n",
       "1           2501.0  184  201.0   1.5   H  B4C4-5  10/21/2016            N   \n",
       "2           2501.0   94  184.0   6.0   O    A6-7  10/21/2016            N   \n",
       "3           2501.0   87  150.0   8.0   O       B  10/21/2016            N   \n",
       "4           2501.0  104  162.0   7.0   H    B1-2  10/21/2016            N   \n",
       "\n",
       "   Size (if Y for Fruit) Notes  ... Canopy HT Water  Shade Cover fruit  \\\n",
       "0               0.754242   NaN  ...     380.0     N     10    25     0   \n",
       "1               0.754242   NaN  ...     380.0     N     10    25     0   \n",
       "2               0.754242   NaN  ...     380.0     N     10    25     0   \n",
       "3               0.754242   NaN  ...     380.0     N     10    25     0   \n",
       "4               0.754242   NaN  ...     380.0     N     10    25     0   \n",
       "\n",
       "   fruitO  fruitH fruitCount  fruitCountO  fruitCountH  \n",
       "0       0       0          2            0            2  \n",
       "1       0       0          2            0            2  \n",
       "2       0       0          2            0            2  \n",
       "3       0       0          2            0            2  \n",
       "4       0       0          2            0            2  \n",
       "\n",
       "[5 rows x 26 columns]"
      ]
     },
     "execution_count": 54,
     "metadata": {},
     "output_type": "execute_result"
    }
   ],
   "source": [
    "flowerTrees.head()"
   ]
  },
  {
   "cell_type": "code",
   "execution_count": 55,
   "metadata": {
    "scrolled": true
   },
   "outputs": [
    {
     "data": {
      "text/html": [
       "<div>\n",
       "<style scoped>\n",
       "    .dataframe tbody tr th:only-of-type {\n",
       "        vertical-align: middle;\n",
       "    }\n",
       "\n",
       "    .dataframe tbody tr th {\n",
       "        vertical-align: top;\n",
       "    }\n",
       "\n",
       "    .dataframe thead th {\n",
       "        text-align: right;\n",
       "    }\n",
       "</style>\n",
       "<table border=\"1\" class=\"dataframe\">\n",
       "  <thead>\n",
       "    <tr style=\"text-align: right;\">\n",
       "      <th></th>\n",
       "      <th>Chakra</th>\n",
       "      <th>Tree</th>\n",
       "      <th>Treatment</th>\n",
       "      <th>Type</th>\n",
       "      <th>Trunk Cir.</th>\n",
       "      <th>Canopy HT</th>\n",
       "      <th>Water</th>\n",
       "      <th>Shade</th>\n",
       "      <th>Cover</th>\n",
       "      <th>ChakraTree</th>\n",
       "      <th>fruitCount</th>\n",
       "      <th>fruitCountO</th>\n",
       "      <th>fruitCountH</th>\n",
       "    </tr>\n",
       "  </thead>\n",
       "  <tbody>\n",
       "    <tr>\n",
       "      <td>0</td>\n",
       "      <td>CC1</td>\n",
       "      <td>1</td>\n",
       "      <td>LB</td>\n",
       "      <td>G</td>\n",
       "      <td>47</td>\n",
       "      <td>380.0</td>\n",
       "      <td>N</td>\n",
       "      <td>10</td>\n",
       "      <td>25</td>\n",
       "      <td>CC11</td>\n",
       "      <td>2</td>\n",
       "      <td>0</td>\n",
       "      <td>2</td>\n",
       "    </tr>\n",
       "    <tr>\n",
       "      <td>1</td>\n",
       "      <td>CC1</td>\n",
       "      <td>2</td>\n",
       "      <td>LB</td>\n",
       "      <td>R</td>\n",
       "      <td>82</td>\n",
       "      <td>500.0</td>\n",
       "      <td>N</td>\n",
       "      <td>0</td>\n",
       "      <td>15</td>\n",
       "      <td>CC12</td>\n",
       "      <td>4</td>\n",
       "      <td>0</td>\n",
       "      <td>4</td>\n",
       "    </tr>\n",
       "    <tr>\n",
       "      <td>2</td>\n",
       "      <td>CC1</td>\n",
       "      <td>3</td>\n",
       "      <td>LN</td>\n",
       "      <td>R</td>\n",
       "      <td>37</td>\n",
       "      <td>380.0</td>\n",
       "      <td>N</td>\n",
       "      <td>0</td>\n",
       "      <td>0</td>\n",
       "      <td>CC13</td>\n",
       "      <td>1</td>\n",
       "      <td>0</td>\n",
       "      <td>1</td>\n",
       "    </tr>\n",
       "    <tr>\n",
       "      <td>3</td>\n",
       "      <td>CC1</td>\n",
       "      <td>4</td>\n",
       "      <td>LN</td>\n",
       "      <td>G</td>\n",
       "      <td>106</td>\n",
       "      <td>260.0</td>\n",
       "      <td>N</td>\n",
       "      <td>0</td>\n",
       "      <td>5</td>\n",
       "      <td>CC14</td>\n",
       "      <td>4</td>\n",
       "      <td>0</td>\n",
       "      <td>4</td>\n",
       "    </tr>\n",
       "    <tr>\n",
       "      <td>4</td>\n",
       "      <td>CC1</td>\n",
       "      <td>5</td>\n",
       "      <td>NB</td>\n",
       "      <td>G</td>\n",
       "      <td>44</td>\n",
       "      <td>345.0</td>\n",
       "      <td>N</td>\n",
       "      <td>5</td>\n",
       "      <td>10</td>\n",
       "      <td>CC15</td>\n",
       "      <td>1</td>\n",
       "      <td>1</td>\n",
       "      <td>0</td>\n",
       "    </tr>\n",
       "  </tbody>\n",
       "</table>\n",
       "</div>"
      ],
      "text/plain": [
       "  Chakra  Tree Treatment Type  Trunk Cir.  Canopy HT Water  Shade  Cover  \\\n",
       "0    CC1     1        LB    G          47      380.0     N     10     25   \n",
       "1    CC1     2        LB    R          82      500.0     N      0     15   \n",
       "2    CC1     3        LN    R          37      380.0     N      0      0   \n",
       "3    CC1     4        LN    G         106      260.0     N      0      5   \n",
       "4    CC1     5        NB    G          44      345.0     N      5     10   \n",
       "\n",
       "  ChakraTree  fruitCount  fruitCountO  fruitCountH  \n",
       "0       CC11           2            0            2  \n",
       "1       CC12           4            0            4  \n",
       "2       CC13           1            0            1  \n",
       "3       CC14           4            0            4  \n",
       "4       CC15           1            1            0  "
      ]
     },
     "execution_count": 55,
     "metadata": {},
     "output_type": "execute_result"
    }
   ],
   "source": [
    "treeFruitCount.head()"
   ]
  },
  {
   "cell_type": "markdown",
   "metadata": {},
   "source": [
    "## Now! Look at fruit count per tree comparing different pollination treatments"
   ]
  },
  {
   "cell_type": "code",
   "execution_count": 56,
   "metadata": {},
   "outputs": [
    {
     "data": {
      "text/plain": [
       "<seaborn.axisgrid.FacetGrid at 0x1a1ed23490>"
      ]
     },
     "execution_count": 56,
     "metadata": {},
     "output_type": "execute_result"
    },
    {
     "data": {
      "image/png": "[encoded data removed]",
      "text/plain": [
       "<Figure size 360x360 with 1 Axes>"
      ]
     },
     "metadata": {
      "needs_background": "light"
     },
     "output_type": "display_data"
    }
   ],
   "source": [
    "sns.catplot(x=\"Treatment\", y=\"fruitCount\",\n",
    "            kind=\"box\", data=treeFruitCount)"
   ]
  },
  {
   "cell_type": "code",
   "execution_count": 57,
   "metadata": {},
   "outputs": [
    {
     "data": {
      "text/plain": [
       "<seaborn.axisgrid.FacetGrid at 0x1a1f82b450>"
      ]
     },
     "execution_count": 57,
     "metadata": {},
     "output_type": "execute_result"
    },
    {
     "data": {
      "image/png": "[encoded data removed]",
      "text/plain": [
       "<Figure size 360x360 with 1 Axes>"
      ]
     },
     "metadata": {
      "needs_background": "light"
     },
     "output_type": "display_data"
    }
   ],
   "source": [
    "sns.catplot(x=\"Treatment\", y=\"fruitCountO\",\n",
    "            kind=\"box\", data=treeFruitCount)"
   ]
  },
  {
   "cell_type": "code",
   "execution_count": 58,
   "metadata": {
    "scrolled": false
   },
   "outputs": [
    {
     "data": {
      "text/plain": [
       "<seaborn.axisgrid.FacetGrid at 0x1a1fce2850>"
      ]
     },
     "execution_count": 58,
     "metadata": {},
     "output_type": "execute_result"
    },
    {
     "data": {
      "image/png": "[encoded data removed]",
      "text/plain": [
       "<Figure size 360x360 with 1 Axes>"
      ]
     },
     "metadata": {
      "needs_background": "light"
     },
     "output_type": "display_data"
    }
   ],
   "source": [
    "sns.catplot(x=\"Treatment\", y=\"fruitCountH\",\n",
    "            kind=\"box\", data=treeFruitCount)"
   ]
  },
  {
   "cell_type": "markdown",
   "metadata": {},
   "source": [
    "#### The box plots provide clean ways to get a first look, but to really see the distribution, let's also draw the histograms"
   ]
  },
  {
   "cell_type": "code",
   "execution_count": 59,
   "metadata": {},
   "outputs": [
    {
     "data": {
      "image/png": "[encoded data removed]",
      "text/plain": [
       "<Figure size 432x288 with 1 Axes>"
      ]
     },
     "metadata": {
      "needs_background": "light"
     },
     "output_type": "display_data"
    }
   ],
   "source": [
    "plotMulti1DHist(treeFruitCount)"
   ]
  },
  {
   "cell_type": "markdown",
   "metadata": {},
   "source": [
    "It doesn't look like there's any difference in the fruit count when checking all flowers."
   ]
  },
  {
   "cell_type": "code",
   "execution_count": 60,
   "metadata": {
    "scrolled": false
   },
   "outputs": [
    {
     "data": {
      "image/png": "[encoded data removed]",
      "text/plain": [
       "<Figure size 432x288 with 1 Axes>"
      ]
     },
     "metadata": {
      "needs_background": "light"
     },
     "output_type": "display_data"
    }
   ],
   "source": [
    "plotMulti1DHist(treeFruitCount,'H')"
   ]
  },
  {
   "cell_type": "markdown",
   "metadata": {},
   "source": [
    "There is also no obvious difference in the number of fruits on hand-pollinated flowers."
   ]
  },
  {
   "cell_type": "code",
   "execution_count": 61,
   "metadata": {},
   "outputs": [
    {
     "data": {
      "image/png": "[encoded data removed]",
      "text/plain": [
       "<Figure size 432x288 with 1 Axes>"
      ]
     },
     "metadata": {
      "needs_background": "light"
     },
     "output_type": "display_data"
    }
   ],
   "source": [
    "plotMulti1DHist(treeFruitCount,'O')"
   ]
  },
  {
   "cell_type": "markdown",
   "metadata": {},
   "source": [
    "However! It looks like this long LB tail in the open pollinated sample could be interesting.\n",
    "\n",
    "No obvious differences in LN or NB compared to NN."
   ]
  },
  {
   "cell_type": "markdown",
   "metadata": {},
   "source": [
    "# Is this statistically significant? \n",
    "\n",
    "## Null hypothesis: Treatments do not have an effect; identical to NN\n",
    "\n",
    "Use hypothesis testing to compare all treatments to total\n",
    "\n",
    "Set p-value threshold to .... 1\\%"
   ]
  },
  {
   "cell_type": "markdown",
   "metadata": {},
   "source": [
    "### Welch's t-test: \n",
    "Used when samples have unequal sizes and variances: \n",
    "\n",
    "$\\frac{\\mu_1-\\mu_2}{s_\\bar{\\Delta}}$\n",
    "\n",
    "where\n",
    "\n",
    "$s_\\bar{\\Delta}=\\sqrt{\\frac{s_1^2}{n_1}+\\frac{s_2^2}{n_2}}$\n",
    "\n",
    "(where $\\mu_i$, $s_i$, and $n_i$ are the mean, standard deviation, and number of participants respectively in group $i$).\n",
    "\n",
    "In our case, group 2 is NN and we will compare each of the alternatives to this."
   ]
  },
  {
   "cell_type": "code",
   "execution_count": 62,
   "metadata": {},
   "outputs": [],
   "source": [
    "treatments=list(treeFruitCount['Treatment'].unique())\n",
    "pollination=['O']\n",
    "\n",
    "# first calculate group2 stuff\n",
    "# list order: mu, s, n\n",
    "group2 = {'O':[treeFruitCount.loc[treeFruitCount['Treatment']=='NN']['fruitCountO'].mean()\n",
    "               ,treeFruitCount.loc[treeFruitCount['Treatment']=='NN']['fruitCountO'].var()\n",
    "               ,treeFruitCount.loc[treeFruitCount['Treatment']=='NN']['fruitCountO'].count()\n",
    "              ]\n",
    "         }\n",
    "\n",
    "fullTreatmentList,fullPollinationList,fullMeanList,fullVarList,fullCountList,fullTTestList=[],[],[],[],[],[]\n",
    "\n",
    "for treatment,polli in itertools.product(treatments,pollination):\n",
    "    fullTreatmentList.append(treatment)\n",
    "    fullPollinationList.append(polli)\n",
    "    \n",
    "    thisCount=treeFruitCount.loc[treeFruitCount['Treatment']==treatment]['fruitCount'+polli]\n",
    "    fullMeanList.append(thisCount.mean())\n",
    "    fullVarList.append(thisCount.var())\n",
    "    fullCountList.append(thisCount.count())\n",
    "    tTest=(thisCount.mean()-group2[polli][0])/np.sqrt(thisCount.var()/thisCount.count() + group2[polli][1]/group2[polli][2])\n",
    "    fullTTestList.append(tTest)"
   ]
  },
  {
   "cell_type": "code",
   "execution_count": 63,
   "metadata": {},
   "outputs": [],
   "source": [
    "resultsDF=pd.DataFrame(list(zip(fullTreatmentList,fullPollinationList,fullMeanList,fullVarList,fullCountList,fullTTestList))\n",
    "                       ,columns=['Treatment','Pollination','Mean','Variance','Count','tTest'])"
   ]
  },
  {
   "cell_type": "code",
   "execution_count": 64,
   "metadata": {
    "scrolled": true
   },
   "outputs": [
    {
     "data": {
      "text/html": [
       "<div>\n",
       "<style scoped>\n",
       "    .dataframe tbody tr th:only-of-type {\n",
       "        vertical-align: middle;\n",
       "    }\n",
       "\n",
       "    .dataframe tbody tr th {\n",
       "        vertical-align: top;\n",
       "    }\n",
       "\n",
       "    .dataframe thead th {\n",
       "        text-align: right;\n",
       "    }\n",
       "</style>\n",
       "<table border=\"1\" class=\"dataframe\">\n",
       "  <thead>\n",
       "    <tr style=\"text-align: right;\">\n",
       "      <th></th>\n",
       "      <th>Treatment</th>\n",
       "      <th>Pollination</th>\n",
       "      <th>Mean</th>\n",
       "      <th>Variance</th>\n",
       "      <th>Count</th>\n",
       "      <th>tTest</th>\n",
       "    </tr>\n",
       "  </thead>\n",
       "  <tbody>\n",
       "    <tr>\n",
       "      <td>0</td>\n",
       "      <td>LB</td>\n",
       "      <td>O</td>\n",
       "      <td>1.071429</td>\n",
       "      <td>2.883598</td>\n",
       "      <td>28</td>\n",
       "      <td>1.675446</td>\n",
       "    </tr>\n",
       "    <tr>\n",
       "      <td>1</td>\n",
       "      <td>LN</td>\n",
       "      <td>O</td>\n",
       "      <td>0.520000</td>\n",
       "      <td>0.676667</td>\n",
       "      <td>25</td>\n",
       "      <td>0.175693</td>\n",
       "    </tr>\n",
       "    <tr>\n",
       "      <td>2</td>\n",
       "      <td>NB</td>\n",
       "      <td>O</td>\n",
       "      <td>0.357143</td>\n",
       "      <td>0.386243</td>\n",
       "      <td>28</td>\n",
       "      <td>-0.666596</td>\n",
       "    </tr>\n",
       "    <tr>\n",
       "      <td>3</td>\n",
       "      <td>NN</td>\n",
       "      <td>O</td>\n",
       "      <td>0.481481</td>\n",
       "      <td>0.566952</td>\n",
       "      <td>27</td>\n",
       "      <td>0.000000</td>\n",
       "    </tr>\n",
       "  </tbody>\n",
       "</table>\n",
       "</div>"
      ],
      "text/plain": [
       "  Treatment Pollination      Mean  Variance  Count     tTest\n",
       "0        LB           O  1.071429  2.883598     28  1.675446\n",
       "1        LN           O  0.520000  0.676667     25  0.175693\n",
       "2        NB           O  0.357143  0.386243     28 -0.666596\n",
       "3        NN           O  0.481481  0.566952     27  0.000000"
      ]
     },
     "execution_count": 64,
     "metadata": {},
     "output_type": "execute_result"
    }
   ],
   "source": [
    "resultsDF"
   ]
  },
  {
   "cell_type": "markdown",
   "metadata": {},
   "source": [
    "The largest excess is roughly 1.7 sigma -- not enough to claim significance but certainly worth further investigation.\n",
    "\n",
    "This investigation could be improved with better controlling for the many other features in the dataset, or possibly collecting more data if needed.\n",
    "\n",
    "This is before checking for any correlations with other features of the dataset (e.g. amount of sunlight, size of tree, etc)."
   ]
  },
  {
   "cell_type": "markdown",
   "metadata": {},
   "source": [
    "## What other factors are important?\n",
    "\n",
    "### Check possible correlations between open pollinated fruit count and other features.\n",
    "These would need to be addressed before publishing the result above\n"
   ]
  },
  {
   "cell_type": "code",
   "execution_count": 65,
   "metadata": {},
   "outputs": [
    {
     "name": "stdout",
     "output_type": "stream",
     "text": [
      "<class 'pandas.core.frame.DataFrame'>\n",
      "Int64Index: 108 entries, 0 to 107\n",
      "Data columns (total 13 columns):\n",
      "Chakra         108 non-null object\n",
      "Tree           108 non-null int64\n",
      "Treatment      108 non-null object\n",
      "Type           108 non-null object\n",
      "Trunk Cir.     108 non-null int64\n",
      "Canopy HT      108 non-null float64\n",
      "Water          108 non-null object\n",
      "Shade          108 non-null int64\n",
      "Cover          108 non-null int64\n",
      "ChakraTree     108 non-null object\n",
      "fruitCount     108 non-null int64\n",
      "fruitCountO    108 non-null int64\n",
      "fruitCountH    108 non-null int64\n",
      "dtypes: float64(1), int64(7), object(5)\n",
      "memory usage: 16.8+ KB\n"
     ]
    }
   ],
   "source": [
    "treeFruitCount.info()"
   ]
  },
  {
   "cell_type": "code",
   "execution_count": 66,
   "metadata": {
    "scrolled": true
   },
   "outputs": [
    {
     "data": {
      "text/plain": [
       "<seaborn.axisgrid.FacetGrid at 0x1a1f750110>"
      ]
     },
     "execution_count": 66,
     "metadata": {},
     "output_type": "execute_result"
    },
    {
     "data": {
      "image/png": "[encoded data removed]",
      "text/plain": [
       "<Figure size 360x360 with 1 Axes>"
      ]
     },
     "metadata": {
      "needs_background": "light"
     },
     "output_type": "display_data"
    }
   ],
   "source": [
    "treeFruitCount['trunkRound']=treeFruitCount['Trunk Cir.'].apply(lambda x : round(x,-1))\n",
    "sns.relplot(x='trunkRound',y='fruitCountO',data=treeFruitCount,kind='line')"
   ]
  },
  {
   "cell_type": "code",
   "execution_count": 67,
   "metadata": {
    "scrolled": true
   },
   "outputs": [
    {
     "data": {
      "text/plain": [
       "<seaborn.axisgrid.FacetGrid at 0x1a203fea10>"
      ]
     },
     "execution_count": 67,
     "metadata": {},
     "output_type": "execute_result"
    },
    {
     "data": {
      "image/png": "[encoded data removed]",
      "text/plain": [
       "<Figure size 360x360 with 1 Axes>"
      ]
     },
     "metadata": {
      "needs_background": "light"
     },
     "output_type": "display_data"
    }
   ],
   "source": [
    "treeFruitCount['CanopyHT']=treeFruitCount['Canopy HT'].apply(lambda x : round(x,-2))\n",
    "sns.relplot(x='CanopyHT',y='fruitCountO',data=treeFruitCount,kind='line')"
   ]
  },
  {
   "cell_type": "markdown",
   "metadata": {},
   "source": [
    "Possible slight positive correlations between tree size and number of fruits -- of course!"
   ]
  },
  {
   "cell_type": "code",
   "execution_count": 68,
   "metadata": {},
   "outputs": [
    {
     "data": {
      "text/plain": [
       "<seaborn.axisgrid.FacetGrid at 0x1a203fe2d0>"
      ]
     },
     "execution_count": 68,
     "metadata": {},
     "output_type": "execute_result"
    },
    {
     "data": {
      "image/png": "[encoded data removed]",
      "text/plain": [
       "<Figure size 360x360 with 1 Axes>"
      ]
     },
     "metadata": {
      "needs_background": "light"
     },
     "output_type": "display_data"
    }
   ],
   "source": [
    "sns.relplot(x='Shade',y='fruitCountO',data=treeFruitCount,kind='line')"
   ]
  },
  {
   "cell_type": "markdown",
   "metadata": {},
   "source": [
    "Possible slight negative correlation."
   ]
  },
  {
   "cell_type": "code",
   "execution_count": 69,
   "metadata": {},
   "outputs": [
    {
     "data": {
      "text/plain": [
       "<seaborn.axisgrid.FacetGrid at 0x1a200adad0>"
      ]
     },
     "execution_count": 69,
     "metadata": {},
     "output_type": "execute_result"
    },
    {
     "data": {
      "image/png": "[encoded data removed]",
      "text/plain": [
       "<Figure size 360x360 with 1 Axes>"
      ]
     },
     "metadata": {
      "needs_background": "light"
     },
     "output_type": "display_data"
    }
   ],
   "source": [
    "sns.relplot(x='Cover',y='fruitCountO',data=treeFruitCount,kind='line')"
   ]
  },
  {
   "cell_type": "markdown",
   "metadata": {},
   "source": [
    "Possible positive correlation here."
   ]
  },
  {
   "cell_type": "code",
   "execution_count": 70,
   "metadata": {},
   "outputs": [
    {
     "data": {
      "text/plain": [
       "<seaborn.axisgrid.FacetGrid at 0x1a1fd4b690>"
      ]
     },
     "execution_count": 70,
     "metadata": {},
     "output_type": "execute_result"
    },
    {
     "data": {
      "image/png": "[encoded data removed]",
      "text/plain": [
       "<Figure size 360x360 with 1 Axes>"
      ]
     },
     "metadata": {
      "needs_background": "light"
     },
     "output_type": "display_data"
    }
   ],
   "source": [
    "sns.catplot(x=\"Type\", y=\"fruitCountO\",\n",
    "            kind=\"box\", data=treeFruitCount)"
   ]
  },
  {
   "cell_type": "markdown",
   "metadata": {},
   "source": [
    "It looks like 'G' type trees have more success with open fruit pollination, but 'G' population is just bigger to begin with (see EDA)."
   ]
  },
  {
   "cell_type": "code",
   "execution_count": 71,
   "metadata": {},
   "outputs": [
    {
     "data": {
      "text/plain": [
       "<seaborn.axisgrid.FacetGrid at 0x1a1fffe450>"
      ]
     },
     "execution_count": 71,
     "metadata": {},
     "output_type": "execute_result"
    },
    {
     "data": {
      "image/png": "[encoded data removed]",
      "text/plain": [
       "<Figure size 360x360 with 1 Axes>"
      ]
     },
     "metadata": {
      "needs_background": "light"
     },
     "output_type": "display_data"
    }
   ],
   "source": [
    "sns.catplot(x=\"Water\", y=\"fruitCountO\",\n",
    "            kind=\"box\", data=treeFruitCount)"
   ]
  },
  {
   "cell_type": "markdown",
   "metadata": {},
   "source": [
    "Trees with water have fewer fruits. However similarly as tree type, this category was vastly imbalanced to begin with so it's hard to draw a correlation here."
   ]
  },
  {
   "cell_type": "markdown",
   "metadata": {},
   "source": [
    "### Would applying the treatments be worth it? \n",
    "In other words, would the cost of applying the treatment yield more fruit than the equivalent cost of hand-pollinating?\n",
    "\n",
    "Without a significant increase in open pollinated fruits using the treatment methods, I would not recommend it. \n",
    "\n",
    "However there is a slight excess which should be followed up with more robust data processing or more data if needed.\n",
    "\n",
    "If the excess persists or increases, the farmers should compare the net profits of continued hand pollination versus switching (at least in part) to the treatment method to decide whether applying the treatments would be worth it.\n",
    "\n",
    "Final thought on this: Just look at the hand vs open fruit count distributions comparing only LB and NN. The similarity between \"open LB\" and the hand pollinated categories is certainly compelling."
   ]
  },
  {
   "cell_type": "code",
   "execution_count": 72,
   "metadata": {},
   "outputs": [
    {
     "data": {
      "text/plain": [
       "Text(0, 0.5, 'Number of Trees')"
      ]
     },
     "execution_count": 72,
     "metadata": {},
     "output_type": "execute_result"
    },
    {
     "data": {
      "image/png": "[encoded data removed]",
      "text/plain": [
       "<Figure size 432x288 with 1 Axes>"
      ]
     },
     "metadata": {
      "needs_background": "light"
     },
     "output_type": "display_data"
    }
   ],
   "source": [
    "openLB = treeFruitCount.loc[treeFruitCount.Treatment=='LB'].fruitCountO.hist(bins=5,label='Open; LB',histtype='step',linewidth=2)\n",
    "openNN = treeFruitCount.loc[treeFruitCount.Treatment=='NN'].fruitCountO.hist(bins=5,label='Open; NN',histtype='step',linewidth=2)\n",
    "handLB = treeFruitCount.loc[treeFruitCount.Treatment=='LB'].fruitCountH.hist(bins=5,label='Hand; LB',histtype='step',linewidth=2)\n",
    "handNN = treeFruitCount.loc[treeFruitCount.Treatment=='NN'].fruitCountH.hist(bins=5,label='Hand; NN',histtype='step',linewidth=2)\n",
    "plt.legend()\n",
    "plt.xlabel('Number of fruits Per Tree')\n",
    "plt.ylabel('Number of Trees')"
   ]
  },
  {
   "cell_type": "markdown",
   "metadata": {},
   "source": [
    "### Other important takeaways\n",
    "\n",
    "Check out insect database real quick."
   ]
  },
  {
   "cell_type": "code",
   "execution_count": 73,
   "metadata": {},
   "outputs": [
    {
     "data": {
      "text/html": [
       "<div>\n",
       "<style scoped>\n",
       "    .dataframe tbody tr th:only-of-type {\n",
       "        vertical-align: middle;\n",
       "    }\n",
       "\n",
       "    .dataframe tbody tr th {\n",
       "        vertical-align: top;\n",
       "    }\n",
       "\n",
       "    .dataframe thead th {\n",
       "        text-align: right;\n",
       "    }\n",
       "</style>\n",
       "<table border=\"1\" class=\"dataframe\">\n",
       "  <thead>\n",
       "    <tr style=\"text-align: right;\">\n",
       "      <th></th>\n",
       "      <th>Essig_ID</th>\n",
       "      <th>CollE</th>\n",
       "      <th>Chakra</th>\n",
       "      <th>Tree</th>\n",
       "      <th>Storage</th>\n",
       "      <th>Order</th>\n",
       "      <th>Family</th>\n",
       "      <th>Sex</th>\n",
       "    </tr>\n",
       "  </thead>\n",
       "  <tbody>\n",
       "    <tr>\n",
       "      <td>0</td>\n",
       "      <td>1166083</td>\n",
       "      <td>2016</td>\n",
       "      <td>SJ1</td>\n",
       "      <td>11</td>\n",
       "      <td>TB101 (1,1)</td>\n",
       "      <td>Hymen</td>\n",
       "      <td>Platy</td>\n",
       "      <td>NaN</td>\n",
       "    </tr>\n",
       "    <tr>\n",
       "      <td>1</td>\n",
       "      <td>1166084</td>\n",
       "      <td>2016</td>\n",
       "      <td>SJ1</td>\n",
       "      <td>11</td>\n",
       "      <td>TB101 (1,2)</td>\n",
       "      <td>Diptera</td>\n",
       "      <td>Cecido</td>\n",
       "      <td>Female</td>\n",
       "    </tr>\n",
       "    <tr>\n",
       "      <td>2</td>\n",
       "      <td>1166085</td>\n",
       "      <td>2016</td>\n",
       "      <td>SJ1</td>\n",
       "      <td>10</td>\n",
       "      <td>TB101 (1,3)</td>\n",
       "      <td>Diptera</td>\n",
       "      <td>Cera</td>\n",
       "      <td>NaN</td>\n",
       "    </tr>\n",
       "    <tr>\n",
       "      <td>3</td>\n",
       "      <td>1166086</td>\n",
       "      <td>2016</td>\n",
       "      <td>SJ1</td>\n",
       "      <td>10</td>\n",
       "      <td>TB101 (1,4)</td>\n",
       "      <td>Diptera</td>\n",
       "      <td>Cecido</td>\n",
       "      <td>Male</td>\n",
       "    </tr>\n",
       "    <tr>\n",
       "      <td>4</td>\n",
       "      <td>1166087</td>\n",
       "      <td>2016</td>\n",
       "      <td>SJ1</td>\n",
       "      <td>10</td>\n",
       "      <td>TB101 (1,5)</td>\n",
       "      <td>Diptera</td>\n",
       "      <td>Cecido</td>\n",
       "      <td>Female</td>\n",
       "    </tr>\n",
       "  </tbody>\n",
       "</table>\n",
       "</div>"
      ],
      "text/plain": [
       "   Essig_ID CollE Chakra Tree       Storage    Order   Family     Sex\n",
       "0   1166083  2016    SJ1   11   TB101 (1,1)    Hymen    Platy     NaN\n",
       "1   1166084  2016    SJ1   11  TB101 (1,2)   Diptera  Cecido   Female\n",
       "2   1166085  2016    SJ1   10   TB101 (1,3)  Diptera     Cera     NaN\n",
       "3   1166086  2016    SJ1   10  TB101 (1,4)   Diptera   Cecido    Male\n",
       "4   1166087  2016    SJ1   10  TB101 (1,5)   Diptera   Cecido  Female"
      ]
     },
     "execution_count": 73,
     "metadata": {},
     "output_type": "execute_result"
    }
   ],
   "source": [
    "specimens.head()"
   ]
  },
  {
   "cell_type": "code",
   "execution_count": 74,
   "metadata": {},
   "outputs": [],
   "source": [
    "specimens['ChakraTree']=specimens['Chakra'].str.cat(specimens['Tree'].astype(str))"
   ]
  },
  {
   "cell_type": "code",
   "execution_count": 75,
   "metadata": {},
   "outputs": [],
   "source": [
    "specimenTrees = pd.merge(trees,specimens,on='ChakraTree',how='left')"
   ]
  },
  {
   "cell_type": "code",
   "execution_count": 76,
   "metadata": {
    "scrolled": true
   },
   "outputs": [
    {
     "data": {
      "text/plain": [
       "Text(0, 0.5, 'Number of insect recordings')"
      ]
     },
     "execution_count": 76,
     "metadata": {},
     "output_type": "execute_result"
    },
    {
     "data": {
      "image/png": "[encoded data removed]",
      "text/plain": [
       "<Figure size 432x288 with 1 Axes>"
      ]
     },
     "metadata": {
      "needs_background": "light"
     },
     "output_type": "display_data"
    }
   ],
   "source": [
    "specimenTrees.groupby(specimenTrees['Treatment']).Water.count().plot(kind='bar')\n",
    "plt.xlabel('Tree treatment')\n",
    "plt.ylabel('Number of insect recordings')"
   ]
  },
  {
   "cell_type": "markdown",
   "metadata": {},
   "source": [
    "This does suggest that more insects are near the treated trees. Perhaps the difference in pollination will become more apparent with more time / more data."
   ]
  }
 ],
 "metadata": {
  "kernelspec": {
   "display_name": "Python 3",
   "language": "python",
   "name": "python3"
  },
  "language_info": {
   "codemirror_mode": {
    "name": "ipython",
    "version": 3
   },
   "file_extension": ".py",
   "mimetype": "text/x-python",
   "name": "python",
   "nbconvert_exporter": "python",
   "pygments_lexer": "ipython3",
   "version": "3.7.4"
  }
 },
 "nbformat": 4,
 "nbformat_minor": 2
}
